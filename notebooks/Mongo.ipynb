{
 "cells": [
  {
   "cell_type": "markdown",
   "id": "64893e46",
   "metadata": {},
   "source": [
    "# Mongo"
   ]
  },
  {
   "cell_type": "markdown",
   "id": "bb404da6",
   "metadata": {},
   "source": [
    "## Importing libraries and setting up connection"
   ]
  },
  {
   "cell_type": "code",
   "execution_count": 42,
   "id": "72e07b7b",
   "metadata": {},
   "outputs": [],
   "source": [
    "from pymongo import MongoClient\n",
    "import pandas as pd\n",
    "import time\n",
    "import numpy as np\n",
    "import re"
   ]
  },
  {
   "cell_type": "code",
   "execution_count": 43,
   "id": "bf9b45e9",
   "metadata": {},
   "outputs": [],
   "source": [
    "client = MongoClient(\"localhost:27017\")"
   ]
  },
  {
   "cell_type": "code",
   "execution_count": 44,
   "id": "2c24f0c2",
   "metadata": {},
   "outputs": [
    {
     "data": {
      "text/plain": [
       "['Ironhack', 'admin', 'config', 'local']"
      ]
     },
     "execution_count": 44,
     "metadata": {},
     "output_type": "execute_result"
    }
   ],
   "source": [
    "client.list_database_names()"
   ]
  },
  {
   "cell_type": "code",
   "execution_count": 45,
   "id": "cf66c3d4",
   "metadata": {},
   "outputs": [],
   "source": [
    "db = client[\"Ironhack\"]"
   ]
  },
  {
   "cell_type": "code",
   "execution_count": 46,
   "id": "35629081",
   "metadata": {},
   "outputs": [],
   "source": [
    "c = db.get_collection(\"companies\")"
   ]
  },
  {
   "cell_type": "markdown",
   "id": "c7b31e03",
   "metadata": {},
   "source": [
    "## Queryng"
   ]
  },
  {
   "cell_type": "markdown",
   "id": "ac238a07",
   "metadata": {},
   "source": [
    "### Three cities are selected as candidates based on the location of the video game companies that have raised the most money in total."
   ]
  },
  {
   "cell_type": "code",
   "execution_count": 47,
   "id": "92e7c049",
   "metadata": {},
   "outputs": [],
   "source": [
    "#c.distinct(\"category_code\")"
   ]
  },
  {
   "cell_type": "code",
   "execution_count": 51,
   "id": "d4f629fd",
   "metadata": {
    "scrolled": true
   },
   "outputs": [],
   "source": []
  },
  {
   "cell_type": "code",
   "execution_count": 59,
   "id": "34202efb",
   "metadata": {},
   "outputs": [],
   "source": [
    "def clean_data(results):\n",
    "    \n",
    "    \"\"\"\n",
    "    This function queries a mongo db called companies to retrieve information about gaming companies\n",
    "    that have raised more than 1M (€, $ or ¥) and have offices in cities.\n",
    "    \n",
    "    It returns a pandas dataframe with the company name, the total amount of money raised,\n",
    "    and the city of the office.\n",
    "    \"\"\"\n",
    "    \n",
    "    #query the companies db to \n",
    "    query = {\"category_code\": \"games_video\",\n",
    "             \"total_money_raised\": {\"$regex\": re.compile(r\"^(€|\\$|¥)[1-9]\\d*M$\")},\n",
    "             \"offices.city\": {\"$exists\": True, \"$ne\": None}}\n",
    "    projection = {\"name\": 1, \"_id\" : 0, \"total_money_raised\": 1, \"offices.city\": 1}\n",
    "    results = list(c.find(query, projection).sort(\"total_money_raised\", -1))\n",
    "    \n",
    "    # convert into a df and clean the data\n",
    "    df = pd.DataFrame(results)\n",
    "    df['offices'] = df['offices'].apply(lambda x: x[0]['city'] if x else None)\n",
    "    df['offices'].replace('', np.nan, inplace=True)\n",
    "    df.dropna(subset=['offices'], inplace=True)\n",
    "    pd.set_option('display.max_rows', None)\n",
    "    \n",
    "    return df\n"
   ]
  },
  {
   "cell_type": "code",
   "execution_count": 60,
   "id": "5495694d",
   "metadata": {},
   "outputs": [
    {
     "data": {
      "text/plain": [
       "offices\n",
       "San Francisco    15\n",
       "New York         13\n",
       "Santa Monica      5\n",
       "Name: count, dtype: int64"
      ]
     },
     "execution_count": 60,
     "metadata": {},
     "output_type": "execute_result"
    }
   ],
   "source": [
    "df[\"offices\"].value_counts().head(3)"
   ]
  },
  {
   "cell_type": "markdown",
   "id": "23a8c758",
   "metadata": {},
   "source": [
    "### Nearby companies that also do design."
   ]
  },
  {
   "cell_type": "code",
   "execution_count": 63,
   "id": "b1557af0",
   "metadata": {},
   "outputs": [
    {
     "data": {
      "text/plain": [
       "[None,\n",
       " 'advertising',\n",
       " 'analytics',\n",
       " 'automotive',\n",
       " 'biotech',\n",
       " 'cleantech',\n",
       " 'consulting',\n",
       " 'design',\n",
       " 'ecommerce',\n",
       " 'education',\n",
       " 'enterprise',\n",
       " 'fashion',\n",
       " 'finance',\n",
       " 'games_video',\n",
       " 'government',\n",
       " 'hardware',\n",
       " 'health',\n",
       " 'hospitality',\n",
       " 'legal',\n",
       " 'local',\n",
       " 'manufacturing',\n",
       " 'medical',\n",
       " 'messaging',\n",
       " 'mobile',\n",
       " 'music',\n",
       " 'nanotech',\n",
       " 'network_hosting',\n",
       " 'news',\n",
       " 'nonprofit',\n",
       " 'other',\n",
       " 'photo_video',\n",
       " 'public_relations',\n",
       " 'real_estate',\n",
       " 'search',\n",
       " 'security',\n",
       " 'semiconductor',\n",
       " 'social',\n",
       " 'software',\n",
       " 'sports',\n",
       " 'transportation',\n",
       " 'travel',\n",
       " 'web']"
      ]
     },
     "execution_count": 63,
     "metadata": {},
     "output_type": "execute_result"
    }
   ],
   "source": [
    "db.companies.distinct(\"category_code\")"
   ]
  },
  {
   "cell_type": "code",
   "execution_count": 64,
   "id": "edb4a963",
   "metadata": {},
   "outputs": [
    {
     "data": {
      "text/plain": [
       "[{'name': 'Gilt Groupe',\n",
       "  'category_code': 'fashion',\n",
       "  'offices': [{'city': 'New York'}]},\n",
       " {'name': 'Nike',\n",
       "  'category_code': 'fashion',\n",
       "  'offices': [{'city': 'Beaverton'}]},\n",
       " {'name': 'Stylesight',\n",
       "  'category_code': 'fashion',\n",
       "  'offices': [{'city': 'NEW YORK'}]},\n",
       " {'name': 'Stylesight',\n",
       "  'category_code': 'fashion',\n",
       "  'offices': [{'city': 'NEW YORK'}]},\n",
       " {'name': 'Refinery29',\n",
       "  'category_code': 'fashion',\n",
       "  'offices': [{'city': 'New York'}]},\n",
       " {'name': 'Geelbe',\n",
       "  'category_code': 'fashion',\n",
       "  'offices': [{'city': 'Bogotá'}]},\n",
       " {'name': 'thredUP',\n",
       "  'category_code': 'fashion',\n",
       "  'offices': [{'city': 'San Francisco'}]},\n",
       " {'name': 'Simon Property Group',\n",
       "  'category_code': 'fashion',\n",
       "  'offices': [{'city': 'Indianapolis'}]},\n",
       " {'name': 'HauteLook',\n",
       "  'category_code': 'fashion',\n",
       "  'offices': [{'city': 'Los Angeles'}]},\n",
       " {'name': 'Chicisimo',\n",
       "  'category_code': 'fashion',\n",
       "  'offices': [{'city': 'Bilbao'}]}]"
      ]
     },
     "execution_count": 64,
     "metadata": {},
     "output_type": "execute_result"
    }
   ],
   "source": [
    "query = {\"category_code\": \"design\", \"category_code\": \"photo_video\", \"category_code\": \"fashion\"}\n",
    "projection = {\"name\": 1, \"_id\":0, \"category_code\": 1,  \"offices.city\": 1}\n",
    "\n",
    "list(c.find(query, projection).sort(\"category_code\", 1))"
   ]
  },
  {
   "cell_type": "code",
   "execution_count": null,
   "id": "155e528a",
   "metadata": {},
   "outputs": [],
   "source": []
  },
  {
   "cell_type": "code",
   "execution_count": null,
   "id": "3fcfc8fc",
   "metadata": {},
   "outputs": [],
   "source": []
  },
  {
   "cell_type": "code",
   "execution_count": null,
   "id": "4edaf0ac",
   "metadata": {},
   "outputs": [],
   "source": []
  },
  {
   "cell_type": "code",
   "execution_count": null,
   "id": "5016c830",
   "metadata": {},
   "outputs": [],
   "source": []
  },
  {
   "cell_type": "code",
   "execution_count": null,
   "id": "4dca35ae",
   "metadata": {},
   "outputs": [],
   "source": []
  },
  {
   "cell_type": "code",
   "execution_count": null,
   "id": "f90412bc",
   "metadata": {},
   "outputs": [],
   "source": []
  },
  {
   "cell_type": "code",
   "execution_count": null,
   "id": "6b3944c8",
   "metadata": {},
   "outputs": [],
   "source": []
  },
  {
   "cell_type": "code",
   "execution_count": null,
   "id": "b15f7352",
   "metadata": {},
   "outputs": [],
   "source": []
  }
 ],
 "metadata": {
  "kernelspec": {
   "display_name": "ironhack",
   "language": "python",
   "name": "ironhack"
  },
  "language_info": {
   "codemirror_mode": {
    "name": "ipython",
    "version": 3
   },
   "file_extension": ".py",
   "mimetype": "text/x-python",
   "name": "python",
   "nbconvert_exporter": "python",
   "pygments_lexer": "ipython3",
   "version": "3.9.12"
  },
  "toc": {
   "base_numbering": 1,
   "nav_menu": {},
   "number_sections": true,
   "sideBar": true,
   "skip_h1_title": false,
   "title_cell": "Table of Contents",
   "title_sidebar": "Contents",
   "toc_cell": false,
   "toc_position": {},
   "toc_section_display": true,
   "toc_window_display": false
  }
 },
 "nbformat": 4,
 "nbformat_minor": 5
}
