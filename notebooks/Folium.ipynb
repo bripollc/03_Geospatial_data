{
 "cells": [
  {
   "cell_type": "code",
   "execution_count": 78,
   "id": "31df629e",
   "metadata": {},
   "outputs": [],
   "source": [
    "import folium\n",
    "from folium import Choropleth, Circle, Marker, Icon, Map\n",
    "from folium.plugins import HeatMap, MarkerCluster\n",
    "import pandas as pd"
   ]
  },
  {
   "cell_type": "code",
   "execution_count": 79,
   "id": "6c18384f",
   "metadata": {},
   "outputs": [],
   "source": [
    "df_sanfrancisco = pd.read_csv(\"../data/san_francisco.csv\")"
   ]
  },
  {
   "cell_type": "code",
   "execution_count": 80,
   "id": "2ed20ced",
   "metadata": {},
   "outputs": [
    {
     "data": {
      "text/html": [
       "<div>\n",
       "<style scoped>\n",
       "    .dataframe tbody tr th:only-of-type {\n",
       "        vertical-align: middle;\n",
       "    }\n",
       "\n",
       "    .dataframe tbody tr th {\n",
       "        vertical-align: top;\n",
       "    }\n",
       "\n",
       "    .dataframe thead th {\n",
       "        text-align: right;\n",
       "    }\n",
       "</style>\n",
       "<table border=\"1\" class=\"dataframe\">\n",
       "  <thead>\n",
       "    <tr style=\"text-align: right;\">\n",
       "      <th></th>\n",
       "      <th>name</th>\n",
       "      <th>address</th>\n",
       "      <th>lat</th>\n",
       "      <th>lon</th>\n",
       "      <th>category_id</th>\n",
       "      <th>category</th>\n",
       "    </tr>\n",
       "  </thead>\n",
       "  <tbody>\n",
       "    <tr>\n",
       "      <th>0</th>\n",
       "      <td>Mission Montessori</td>\n",
       "      <td>50 Fell St, San Francisco, CA 94102</td>\n",
       "      <td>37.776670</td>\n",
       "      <td>-122.418887</td>\n",
       "      <td>12056</td>\n",
       "      <td>Preschool</td>\n",
       "    </tr>\n",
       "    <tr>\n",
       "      <th>1</th>\n",
       "      <td>Adventure Montessori Wonderschool San Francisco</td>\n",
       "      <td>33 8th St, San Francisco, CA 94103</td>\n",
       "      <td>37.778358</td>\n",
       "      <td>-122.413468</td>\n",
       "      <td>12056</td>\n",
       "      <td>Preschool</td>\n",
       "    </tr>\n",
       "    <tr>\n",
       "      <th>2</th>\n",
       "      <td>Presidio Knolls School</td>\n",
       "      <td>250 10th St (Howard/Folsom), San Francisco, CA...</td>\n",
       "      <td>37.773203</td>\n",
       "      <td>-122.413809</td>\n",
       "      <td>12056</td>\n",
       "      <td>Preschool</td>\n",
       "    </tr>\n",
       "    <tr>\n",
       "      <th>3</th>\n",
       "      <td>Judith Baker Child Development Center</td>\n",
       "      <td>685 Natoma St (8th), San Francisco, CA 94103</td>\n",
       "      <td>37.776721</td>\n",
       "      <td>-122.411794</td>\n",
       "      <td>12056</td>\n",
       "      <td>Preschool</td>\n",
       "    </tr>\n",
       "    <tr>\n",
       "      <th>4</th>\n",
       "      <td>KinderCare Learning Center</td>\n",
       "      <td>90 7th St (Stevenson), San Francisco, CA 94103</td>\n",
       "      <td>37.779426</td>\n",
       "      <td>-122.411882</td>\n",
       "      <td>12056</td>\n",
       "      <td>Preschool</td>\n",
       "    </tr>\n",
       "    <tr>\n",
       "      <th>...</th>\n",
       "      <td>...</td>\n",
       "      <td>...</td>\n",
       "      <td>...</td>\n",
       "      <td>...</td>\n",
       "      <td>...</td>\n",
       "      <td>...</td>\n",
       "    </tr>\n",
       "    <tr>\n",
       "      <th>75</th>\n",
       "      <td>Brown Fox Calligraphy</td>\n",
       "      <td>171 Lily St, San Francisco, CA 94102</td>\n",
       "      <td>37.774266</td>\n",
       "      <td>-122.423404</td>\n",
       "      <td>11030</td>\n",
       "      <td>Design Studio</td>\n",
       "    </tr>\n",
       "    <tr>\n",
       "      <th>76</th>\n",
       "      <td>Mule Design</td>\n",
       "      <td>9TH St (Howard St), San Francisco, CA 94107</td>\n",
       "      <td>37.774916</td>\n",
       "      <td>-122.412763</td>\n",
       "      <td>11030</td>\n",
       "      <td>Design Studio</td>\n",
       "    </tr>\n",
       "    <tr>\n",
       "      <th>77</th>\n",
       "      <td>Frog</td>\n",
       "      <td>1130 Howard St, San Francisco, CA 94103</td>\n",
       "      <td>37.777703</td>\n",
       "      <td>-122.410490</td>\n",
       "      <td>11030</td>\n",
       "      <td>Design Studio</td>\n",
       "    </tr>\n",
       "    <tr>\n",
       "      <th>78</th>\n",
       "      <td>Universal Electric Supply</td>\n",
       "      <td>7TH St (Bryant), San Francisco, CA 94103</td>\n",
       "      <td>37.772457</td>\n",
       "      <td>-122.408174</td>\n",
       "      <td>11030</td>\n",
       "      <td>Design Studio</td>\n",
       "    </tr>\n",
       "    <tr>\n",
       "      <th>79</th>\n",
       "      <td>The Factory</td>\n",
       "      <td>965 Mission St, San Francisco, CA 94103</td>\n",
       "      <td>37.781325</td>\n",
       "      <td>-122.407550</td>\n",
       "      <td>11030</td>\n",
       "      <td>Design Studio</td>\n",
       "    </tr>\n",
       "  </tbody>\n",
       "</table>\n",
       "<p>80 rows × 6 columns</p>\n",
       "</div>"
      ],
      "text/plain": [
       "                                               name   \n",
       "0                                Mission Montessori  \\\n",
       "1   Adventure Montessori Wonderschool San Francisco   \n",
       "2                            Presidio Knolls School   \n",
       "3             Judith Baker Child Development Center   \n",
       "4                        KinderCare Learning Center   \n",
       "..                                              ...   \n",
       "75                            Brown Fox Calligraphy   \n",
       "76                                      Mule Design   \n",
       "77                                             Frog   \n",
       "78                        Universal Electric Supply   \n",
       "79                                      The Factory   \n",
       "\n",
       "                                              address        lat         lon   \n",
       "0                 50 Fell St, San Francisco, CA 94102  37.776670 -122.418887  \\\n",
       "1                  33 8th St, San Francisco, CA 94103  37.778358 -122.413468   \n",
       "2   250 10th St (Howard/Folsom), San Francisco, CA...  37.773203 -122.413809   \n",
       "3        685 Natoma St (8th), San Francisco, CA 94103  37.776721 -122.411794   \n",
       "4      90 7th St (Stevenson), San Francisco, CA 94103  37.779426 -122.411882   \n",
       "..                                                ...        ...         ...   \n",
       "75               171 Lily St, San Francisco, CA 94102  37.774266 -122.423404   \n",
       "76        9TH St (Howard St), San Francisco, CA 94107  37.774916 -122.412763   \n",
       "77            1130 Howard St, San Francisco, CA 94103  37.777703 -122.410490   \n",
       "78           7TH St (Bryant), San Francisco, CA 94103  37.772457 -122.408174   \n",
       "79            965 Mission St, San Francisco, CA 94103  37.781325 -122.407550   \n",
       "\n",
       "    category_id       category  \n",
       "0         12056      Preschool  \n",
       "1         12056      Preschool  \n",
       "2         12056      Preschool  \n",
       "3         12056      Preschool  \n",
       "4         12056      Preschool  \n",
       "..          ...            ...  \n",
       "75        11030  Design Studio  \n",
       "76        11030  Design Studio  \n",
       "77        11030  Design Studio  \n",
       "78        11030  Design Studio  \n",
       "79        11030  Design Studio  \n",
       "\n",
       "[80 rows x 6 columns]"
      ]
     },
     "execution_count": 80,
     "metadata": {},
     "output_type": "execute_result"
    }
   ],
   "source": [
    "df_sanfrancisco"
   ]
  },
  {
   "cell_type": "markdown",
   "id": "9bacf48a",
   "metadata": {},
   "source": [
    "# COORDENATES"
   ]
  },
  {
   "cell_type": "code",
   "execution_count": 81,
   "id": "b8128f8e",
   "metadata": {},
   "outputs": [
    {
     "data": {
      "text/html": [
       "<div style=\"width:100%;\"><div style=\"position:relative;width:100%;height:0;padding-bottom:60%;\"><span style=\"color:#565656\">Make this Notebook Trusted to load map: File -> Trust Notebook</span><iframe srcdoc=\"&lt;!DOCTYPE html&gt;\n",
       "&lt;html&gt;\n",
       "&lt;head&gt;\n",
       "    \n",
       "    &lt;meta http-equiv=&quot;content-type&quot; content=&quot;text/html; charset=UTF-8&quot; /&gt;\n",
       "    \n",
       "        &lt;script&gt;\n",
       "            L_NO_TOUCH = false;\n",
       "            L_DISABLE_3D = false;\n",
       "        &lt;/script&gt;\n",
       "    \n",
       "    &lt;style&gt;html, body {width: 100%;height: 100%;margin: 0;padding: 0;}&lt;/style&gt;\n",
       "    &lt;style&gt;#map {position:absolute;top:0;bottom:0;right:0;left:0;}&lt;/style&gt;\n",
       "    &lt;script src=&quot;https://cdn.jsdelivr.net/npm/leaflet@1.9.3/dist/leaflet.js&quot;&gt;&lt;/script&gt;\n",
       "    &lt;script src=&quot;https://code.jquery.com/jquery-1.12.4.min.js&quot;&gt;&lt;/script&gt;\n",
       "    &lt;script src=&quot;https://cdn.jsdelivr.net/npm/bootstrap@5.2.2/dist/js/bootstrap.bundle.min.js&quot;&gt;&lt;/script&gt;\n",
       "    &lt;script src=&quot;https://cdnjs.cloudflare.com/ajax/libs/Leaflet.awesome-markers/2.0.2/leaflet.awesome-markers.js&quot;&gt;&lt;/script&gt;\n",
       "    &lt;link rel=&quot;stylesheet&quot; href=&quot;https://cdn.jsdelivr.net/npm/leaflet@1.9.3/dist/leaflet.css&quot;/&gt;\n",
       "    &lt;link rel=&quot;stylesheet&quot; href=&quot;https://cdn.jsdelivr.net/npm/bootstrap@5.2.2/dist/css/bootstrap.min.css&quot;/&gt;\n",
       "    &lt;link rel=&quot;stylesheet&quot; href=&quot;https://netdna.bootstrapcdn.com/bootstrap/3.0.0/css/bootstrap.min.css&quot;/&gt;\n",
       "    &lt;link rel=&quot;stylesheet&quot; href=&quot;https://cdn.jsdelivr.net/npm/@fortawesome/fontawesome-free@6.2.0/css/all.min.css&quot;/&gt;\n",
       "    &lt;link rel=&quot;stylesheet&quot; href=&quot;https://cdnjs.cloudflare.com/ajax/libs/Leaflet.awesome-markers/2.0.2/leaflet.awesome-markers.css&quot;/&gt;\n",
       "    &lt;link rel=&quot;stylesheet&quot; href=&quot;https://cdn.jsdelivr.net/gh/python-visualization/folium/folium/templates/leaflet.awesome.rotate.min.css&quot;/&gt;\n",
       "    \n",
       "            &lt;meta name=&quot;viewport&quot; content=&quot;width=device-width,\n",
       "                initial-scale=1.0, maximum-scale=1.0, user-scalable=no&quot; /&gt;\n",
       "            &lt;style&gt;\n",
       "                #map_78722f02d1cf116e2ca47dd87c0ce9f4 {\n",
       "                    position: relative;\n",
       "                    width: 100.0%;\n",
       "                    height: 100.0%;\n",
       "                    left: 0.0%;\n",
       "                    top: 0.0%;\n",
       "                }\n",
       "                .leaflet-container { font-size: 1rem; }\n",
       "            &lt;/style&gt;\n",
       "        \n",
       "&lt;/head&gt;\n",
       "&lt;body&gt;\n",
       "    \n",
       "    \n",
       "            &lt;div class=&quot;folium-map&quot; id=&quot;map_78722f02d1cf116e2ca47dd87c0ce9f4&quot; &gt;&lt;/div&gt;\n",
       "        \n",
       "&lt;/body&gt;\n",
       "&lt;script&gt;\n",
       "    \n",
       "    \n",
       "            var map_78722f02d1cf116e2ca47dd87c0ce9f4 = L.map(\n",
       "                &quot;map_78722f02d1cf116e2ca47dd87c0ce9f4&quot;,\n",
       "                {\n",
       "                    center: [37.77694, -122.419443],\n",
       "                    crs: L.CRS.EPSG3857,\n",
       "                    zoom: 15,\n",
       "                    zoomControl: true,\n",
       "                    preferCanvas: false,\n",
       "                }\n",
       "            );\n",
       "\n",
       "            \n",
       "\n",
       "        \n",
       "    \n",
       "            var tile_layer_4ccafe2f40ccccfdca61bdd9232d258c = L.tileLayer(\n",
       "                &quot;https://{s}.tile.openstreetmap.org/{z}/{x}/{y}.png&quot;,\n",
       "                {&quot;attribution&quot;: &quot;Data by \\u0026copy; \\u003ca target=\\&quot;_blank\\&quot; href=\\&quot;http://openstreetmap.org\\&quot;\\u003eOpenStreetMap\\u003c/a\\u003e, under \\u003ca target=\\&quot;_blank\\&quot; href=\\&quot;http://www.openstreetmap.org/copyright\\&quot;\\u003eODbL\\u003c/a\\u003e.&quot;, &quot;detectRetina&quot;: false, &quot;maxNativeZoom&quot;: 18, &quot;maxZoom&quot;: 18, &quot;minZoom&quot;: 0, &quot;noWrap&quot;: false, &quot;opacity&quot;: 1, &quot;subdomains&quot;: &quot;abc&quot;, &quot;tms&quot;: false}\n",
       "            ).addTo(map_78722f02d1cf116e2ca47dd87c0ce9f4);\n",
       "        \n",
       "&lt;/script&gt;\n",
       "&lt;/html&gt;\" style=\"position:absolute;width:100%;height:100%;left:0;top:0;border:none !important;\" allowfullscreen webkitallowfullscreen mozallowfullscreen></iframe></div></div>"
      ],
      "text/plain": [
       "<folium.folium.Map at 0x7fb2eff8cf40>"
      ]
     },
     "execution_count": 81,
     "metadata": {},
     "output_type": "execute_result"
    }
   ],
   "source": [
    "# 0. Starting location for the map\n",
    "# 37.776940, -122.419443\n",
    "mad_lat = 37.776940\n",
    "mad_lon = -122.419443\n",
    "\n",
    "# 1. Map\n",
    "mad_map = Map(location = [mad_lat, mad_lon], zoom_start = 15)\n",
    "mad_map"
   ]
  },
  {
   "cell_type": "code",
   "execution_count": 82,
   "id": "e7ac2b8e",
   "metadata": {
    "scrolled": true
   },
   "outputs": [
    {
     "data": {
      "text/plain": [
       "name                                        Civic Center Commons\n",
       "address        Dr Carlton B Goodlett Pl, San Francisco , 9410...\n",
       "lat                                                    37.779803\n",
       "lon                                                  -122.418069\n",
       "category_id                                                16037\n",
       "category                                              Playground\n",
       "Name: 16, dtype: object"
      ]
     },
     "execution_count": 82,
     "metadata": {},
     "output_type": "execute_result"
    }
   ],
   "source": [
    "row = df.iloc[16]\n",
    "row"
   ]
  },
  {
   "cell_type": "code",
   "execution_count": 83,
   "id": "59a823bd",
   "metadata": {},
   "outputs": [
    {
     "data": {
      "text/html": [
       "<div>\n",
       "<style scoped>\n",
       "    .dataframe tbody tr th:only-of-type {\n",
       "        vertical-align: middle;\n",
       "    }\n",
       "\n",
       "    .dataframe tbody tr th {\n",
       "        vertical-align: top;\n",
       "    }\n",
       "\n",
       "    .dataframe thead th {\n",
       "        text-align: right;\n",
       "    }\n",
       "</style>\n",
       "<table border=\"1\" class=\"dataframe\">\n",
       "  <thead>\n",
       "    <tr style=\"text-align: right;\">\n",
       "      <th></th>\n",
       "      <th>name</th>\n",
       "      <th>address</th>\n",
       "      <th>lat</th>\n",
       "      <th>lon</th>\n",
       "      <th>category_id</th>\n",
       "      <th>category</th>\n",
       "    </tr>\n",
       "  </thead>\n",
       "  <tbody>\n",
       "    <tr>\n",
       "      <th>0</th>\n",
       "      <td>Mission Montessori</td>\n",
       "      <td>50 Fell St, San Francisco, CA 94102</td>\n",
       "      <td>37.776670</td>\n",
       "      <td>-122.418887</td>\n",
       "      <td>12056</td>\n",
       "      <td>Preschool</td>\n",
       "    </tr>\n",
       "    <tr>\n",
       "      <th>1</th>\n",
       "      <td>Adventure Montessori Wonderschool San Francisco</td>\n",
       "      <td>33 8th St, San Francisco, CA 94103</td>\n",
       "      <td>37.778358</td>\n",
       "      <td>-122.413468</td>\n",
       "      <td>12056</td>\n",
       "      <td>Preschool</td>\n",
       "    </tr>\n",
       "    <tr>\n",
       "      <th>2</th>\n",
       "      <td>Presidio Knolls School</td>\n",
       "      <td>250 10th St (Howard/Folsom), San Francisco, CA...</td>\n",
       "      <td>37.773203</td>\n",
       "      <td>-122.413809</td>\n",
       "      <td>12056</td>\n",
       "      <td>Preschool</td>\n",
       "    </tr>\n",
       "  </tbody>\n",
       "</table>\n",
       "</div>"
      ],
      "text/plain": [
       "                                              name   \n",
       "0                               Mission Montessori  \\\n",
       "1  Adventure Montessori Wonderschool San Francisco   \n",
       "2                           Presidio Knolls School   \n",
       "\n",
       "                                             address        lat         lon   \n",
       "0                50 Fell St, San Francisco, CA 94102  37.776670 -122.418887  \\\n",
       "1                 33 8th St, San Francisco, CA 94103  37.778358 -122.413468   \n",
       "2  250 10th St (Howard/Folsom), San Francisco, CA...  37.773203 -122.413809   \n",
       "\n",
       "   category_id   category  \n",
       "0        12056  Preschool  \n",
       "1        12056  Preschool  \n",
       "2        12056  Preschool  "
      ]
     },
     "execution_count": 83,
     "metadata": {},
     "output_type": "execute_result"
    }
   ],
   "source": [
    "df_sanfrancisco.head(3)"
   ]
  },
  {
   "cell_type": "code",
   "execution_count": 89,
   "id": "55c4016f",
   "metadata": {},
   "outputs": [
    {
     "data": {
      "text/html": [
       "<div style=\"width:100%;\"><div style=\"position:relative;width:100%;height:0;padding-bottom:60%;\"><span style=\"color:#565656\">Make this Notebook Trusted to load map: File -> Trust Notebook</span><iframe srcdoc=\"&lt;!DOCTYPE html&gt;\n",
       "&lt;html&gt;\n",
       "&lt;head&gt;\n",
       "    \n",
       "    &lt;meta http-equiv=&quot;content-type&quot; content=&quot;text/html; charset=UTF-8&quot; /&gt;\n",
       "    \n",
       "        &lt;script&gt;\n",
       "            L_NO_TOUCH = false;\n",
       "            L_DISABLE_3D = false;\n",
       "        &lt;/script&gt;\n",
       "    \n",
       "    &lt;style&gt;html, body {width: 100%;height: 100%;margin: 0;padding: 0;}&lt;/style&gt;\n",
       "    &lt;style&gt;#map {position:absolute;top:0;bottom:0;right:0;left:0;}&lt;/style&gt;\n",
       "    &lt;script src=&quot;https://cdn.jsdelivr.net/npm/leaflet@1.9.3/dist/leaflet.js&quot;&gt;&lt;/script&gt;\n",
       "    &lt;script src=&quot;https://code.jquery.com/jquery-1.12.4.min.js&quot;&gt;&lt;/script&gt;\n",
       "    &lt;script src=&quot;https://cdn.jsdelivr.net/npm/bootstrap@5.2.2/dist/js/bootstrap.bundle.min.js&quot;&gt;&lt;/script&gt;\n",
       "    &lt;script src=&quot;https://cdnjs.cloudflare.com/ajax/libs/Leaflet.awesome-markers/2.0.2/leaflet.awesome-markers.js&quot;&gt;&lt;/script&gt;\n",
       "    &lt;link rel=&quot;stylesheet&quot; href=&quot;https://cdn.jsdelivr.net/npm/leaflet@1.9.3/dist/leaflet.css&quot;/&gt;\n",
       "    &lt;link rel=&quot;stylesheet&quot; href=&quot;https://cdn.jsdelivr.net/npm/bootstrap@5.2.2/dist/css/bootstrap.min.css&quot;/&gt;\n",
       "    &lt;link rel=&quot;stylesheet&quot; href=&quot;https://netdna.bootstrapcdn.com/bootstrap/3.0.0/css/bootstrap.min.css&quot;/&gt;\n",
       "    &lt;link rel=&quot;stylesheet&quot; href=&quot;https://cdn.jsdelivr.net/npm/@fortawesome/fontawesome-free@6.2.0/css/all.min.css&quot;/&gt;\n",
       "    &lt;link rel=&quot;stylesheet&quot; href=&quot;https://cdnjs.cloudflare.com/ajax/libs/Leaflet.awesome-markers/2.0.2/leaflet.awesome-markers.css&quot;/&gt;\n",
       "    &lt;link rel=&quot;stylesheet&quot; href=&quot;https://cdn.jsdelivr.net/gh/python-visualization/folium/folium/templates/leaflet.awesome.rotate.min.css&quot;/&gt;\n",
       "    \n",
       "            &lt;meta name=&quot;viewport&quot; content=&quot;width=device-width,\n",
       "                initial-scale=1.0, maximum-scale=1.0, user-scalable=no&quot; /&gt;\n",
       "            &lt;style&gt;\n",
       "                #map_0b9883b26d25f27a24746884e3cf8267 {\n",
       "                    position: relative;\n",
       "                    width: 100.0%;\n",
       "                    height: 100.0%;\n",
       "                    left: 0.0%;\n",
       "                    top: 0.0%;\n",
       "                }\n",
       "                .leaflet-container { font-size: 1rem; }\n",
       "            &lt;/style&gt;\n",
       "        \n",
       "&lt;/head&gt;\n",
       "&lt;body&gt;\n",
       "    \n",
       "    \n",
       "            &lt;div class=&quot;folium-map&quot; id=&quot;map_0b9883b26d25f27a24746884e3cf8267&quot; &gt;&lt;/div&gt;\n",
       "        \n",
       "&lt;/body&gt;\n",
       "&lt;script&gt;\n",
       "    \n",
       "    \n",
       "            var map_0b9883b26d25f27a24746884e3cf8267 = L.map(\n",
       "                &quot;map_0b9883b26d25f27a24746884e3cf8267&quot;,\n",
       "                {\n",
       "                    center: [37.77694, -122.419443],\n",
       "                    crs: L.CRS.EPSG3857,\n",
       "                    zoom: 13,\n",
       "                    zoomControl: true,\n",
       "                    preferCanvas: false,\n",
       "                }\n",
       "            );\n",
       "\n",
       "            \n",
       "\n",
       "        \n",
       "    \n",
       "            var tile_layer_fe56be6ae56a593e937a2f4f9e14ff82 = L.tileLayer(\n",
       "                &quot;https://{s}.tile.openstreetmap.org/{z}/{x}/{y}.png&quot;,\n",
       "                {&quot;attribution&quot;: &quot;Data by \\u0026copy; \\u003ca target=\\&quot;_blank\\&quot; href=\\&quot;http://openstreetmap.org\\&quot;\\u003eOpenStreetMap\\u003c/a\\u003e, under \\u003ca target=\\&quot;_blank\\&quot; href=\\&quot;http://www.openstreetmap.org/copyright\\&quot;\\u003eODbL\\u003c/a\\u003e.&quot;, &quot;detectRetina&quot;: false, &quot;maxNativeZoom&quot;: 18, &quot;maxZoom&quot;: 18, &quot;minZoom&quot;: 0, &quot;noWrap&quot;: false, &quot;opacity&quot;: 1, &quot;subdomains&quot;: &quot;abc&quot;, &quot;tms&quot;: false}\n",
       "            ).addTo(map_0b9883b26d25f27a24746884e3cf8267);\n",
       "        \n",
       "&lt;/script&gt;\n",
       "&lt;/html&gt;\" style=\"position:absolute;width:100%;height:100%;left:0;top:0;border:none !important;\" allowfullscreen webkitallowfullscreen mozallowfullscreen></iframe></div></div>"
      ],
      "text/plain": [
       "<folium.folium.Map at 0x7fb2eff79400>"
      ]
     },
     "execution_count": 89,
     "metadata": {},
     "output_type": "execute_result"
    }
   ],
   "source": [
    "mad_lat = 37.776940\n",
    "mad_lon = -122.419443\n",
    "\n",
    "# we create a map centered on San Francisco coordinates\n",
    "sanfrancisco_map = folium.Map(location=[mad_lat, mad_lon], zoom_start=13)\n",
    "\n",
    "\n",
    "schools = df_sanfrancisco[df_sanfrancisco['category_id'] == '12056']\n",
    "\n",
    "# Iterate over the rows of the DataFrame\n",
    "for index, row in schools.iterrows():\n",
    "    name = row['name']\n",
    "    lat = row['lat']\n",
    "    lon = row['lon']\n",
    "\n",
    "     # Create a custom icon for the design company\n",
    "    icon = folium.Icon(color='blue', icon='briefcase', prefix='fa')\n",
    "\n",
    "    # Add a marker to the map for each office\n",
    "    folium.Marker([lat, lon], icon=icon, popup=name).add_to(sanfrancisco_map)\n",
    "\n",
    "#show the map\n",
    "sanfrancisco_map"
   ]
  },
  {
   "cell_type": "code",
   "execution_count": 85,
   "id": "29a5f66b",
   "metadata": {},
   "outputs": [
    {
     "data": {
      "text/plain": [
       "0     12056\n",
       "1     12056\n",
       "2     12056\n",
       "3     12056\n",
       "4     12056\n",
       "      ...  \n",
       "75    11030\n",
       "76    11030\n",
       "77    11030\n",
       "78    11030\n",
       "79    11030\n",
       "Name: category_id, Length: 80, dtype: int64"
      ]
     },
     "execution_count": 85,
     "metadata": {},
     "output_type": "execute_result"
    }
   ],
   "source": [
    "df_sanfrancisco[\"category_id\"]"
   ]
  },
  {
   "cell_type": "code",
   "execution_count": 87,
   "id": "b73f097f",
   "metadata": {},
   "outputs": [
    {
     "ename": "KeyError",
     "evalue": "'data'",
     "output_type": "error",
     "traceback": [
      "\u001b[0;31m---------------------------------------------------------------------------\u001b[0m",
      "\u001b[0;31mKeyError\u001b[0m                                  Traceback (most recent call last)",
      "File \u001b[0;32m~/miniconda3/envs/ironhack/lib/python3.9/site-packages/pandas/core/indexes/base.py:3652\u001b[0m, in \u001b[0;36mIndex.get_loc\u001b[0;34m(self, key)\u001b[0m\n\u001b[1;32m   3651\u001b[0m \u001b[38;5;28;01mtry\u001b[39;00m:\n\u001b[0;32m-> 3652\u001b[0m     \u001b[38;5;28;01mreturn\u001b[39;00m \u001b[38;5;28;43mself\u001b[39;49m\u001b[38;5;241;43m.\u001b[39;49m\u001b[43m_engine\u001b[49m\u001b[38;5;241;43m.\u001b[39;49m\u001b[43mget_loc\u001b[49m\u001b[43m(\u001b[49m\u001b[43mcasted_key\u001b[49m\u001b[43m)\u001b[49m\n\u001b[1;32m   3653\u001b[0m \u001b[38;5;28;01mexcept\u001b[39;00m \u001b[38;5;167;01mKeyError\u001b[39;00m \u001b[38;5;28;01mas\u001b[39;00m err:\n",
      "File \u001b[0;32m~/miniconda3/envs/ironhack/lib/python3.9/site-packages/pandas/_libs/index.pyx:147\u001b[0m, in \u001b[0;36mpandas._libs.index.IndexEngine.get_loc\u001b[0;34m()\u001b[0m\n",
      "File \u001b[0;32m~/miniconda3/envs/ironhack/lib/python3.9/site-packages/pandas/_libs/index.pyx:176\u001b[0m, in \u001b[0;36mpandas._libs.index.IndexEngine.get_loc\u001b[0;34m()\u001b[0m\n",
      "File \u001b[0;32mpandas/_libs/hashtable_class_helper.pxi:7080\u001b[0m, in \u001b[0;36mpandas._libs.hashtable.PyObjectHashTable.get_item\u001b[0;34m()\u001b[0m\n",
      "File \u001b[0;32mpandas/_libs/hashtable_class_helper.pxi:7088\u001b[0m, in \u001b[0;36mpandas._libs.hashtable.PyObjectHashTable.get_item\u001b[0;34m()\u001b[0m\n",
      "\u001b[0;31mKeyError\u001b[0m: 'data'",
      "\nThe above exception was the direct cause of the following exception:\n",
      "\u001b[0;31mKeyError\u001b[0m                                  Traceback (most recent call last)",
      "Input \u001b[0;32mIn [87]\u001b[0m, in \u001b[0;36m<cell line: 5>\u001b[0;34m()\u001b[0m\n\u001b[1;32m      1\u001b[0m \u001b[38;5;66;03m# we create a map centered on San Francisco coordinates\u001b[39;00m\n\u001b[1;32m      2\u001b[0m sanfrancisco_map \u001b[38;5;241m=\u001b[39m folium\u001b[38;5;241m.\u001b[39mMap(location\u001b[38;5;241m=\u001b[39m[\u001b[38;5;241m37.7749295\u001b[39m, \u001b[38;5;241m-\u001b[39m\u001b[38;5;241m122.4194155\u001b[39m], zoom_start\u001b[38;5;241m=\u001b[39m\u001b[38;5;241m13\u001b[39m)\n\u001b[0;32m----> 5\u001b[0m design_companies \u001b[38;5;241m=\u001b[39m df_sanfrancisco[\u001b[43mdf_sanfrancisco\u001b[49m\u001b[43m[\u001b[49m\u001b[38;5;124;43m'\u001b[39;49m\u001b[38;5;124;43mdata\u001b[39;49m\u001b[38;5;124;43m'\u001b[39;49m\u001b[43m]\u001b[49m \u001b[38;5;241m==\u001b[39m \u001b[38;5;124m'\u001b[39m\u001b[38;5;124mDesign company\u001b[39m\u001b[38;5;124m'\u001b[39m]\n\u001b[1;32m      6\u001b[0m \u001b[38;5;66;03m# Iterate over the rows of the DataFrame\u001b[39;00m\n\u001b[1;32m      7\u001b[0m \u001b[38;5;28;01mfor\u001b[39;00m index, row \u001b[38;5;129;01min\u001b[39;00m design_companies\u001b[38;5;241m.\u001b[39miterrows():\n",
      "File \u001b[0;32m~/miniconda3/envs/ironhack/lib/python3.9/site-packages/pandas/core/frame.py:3760\u001b[0m, in \u001b[0;36mDataFrame.__getitem__\u001b[0;34m(self, key)\u001b[0m\n\u001b[1;32m   3758\u001b[0m \u001b[38;5;28;01mif\u001b[39;00m \u001b[38;5;28mself\u001b[39m\u001b[38;5;241m.\u001b[39mcolumns\u001b[38;5;241m.\u001b[39mnlevels \u001b[38;5;241m>\u001b[39m \u001b[38;5;241m1\u001b[39m:\n\u001b[1;32m   3759\u001b[0m     \u001b[38;5;28;01mreturn\u001b[39;00m \u001b[38;5;28mself\u001b[39m\u001b[38;5;241m.\u001b[39m_getitem_multilevel(key)\n\u001b[0;32m-> 3760\u001b[0m indexer \u001b[38;5;241m=\u001b[39m \u001b[38;5;28;43mself\u001b[39;49m\u001b[38;5;241;43m.\u001b[39;49m\u001b[43mcolumns\u001b[49m\u001b[38;5;241;43m.\u001b[39;49m\u001b[43mget_loc\u001b[49m\u001b[43m(\u001b[49m\u001b[43mkey\u001b[49m\u001b[43m)\u001b[49m\n\u001b[1;32m   3761\u001b[0m \u001b[38;5;28;01mif\u001b[39;00m is_integer(indexer):\n\u001b[1;32m   3762\u001b[0m     indexer \u001b[38;5;241m=\u001b[39m [indexer]\n",
      "File \u001b[0;32m~/miniconda3/envs/ironhack/lib/python3.9/site-packages/pandas/core/indexes/base.py:3654\u001b[0m, in \u001b[0;36mIndex.get_loc\u001b[0;34m(self, key)\u001b[0m\n\u001b[1;32m   3652\u001b[0m     \u001b[38;5;28;01mreturn\u001b[39;00m \u001b[38;5;28mself\u001b[39m\u001b[38;5;241m.\u001b[39m_engine\u001b[38;5;241m.\u001b[39mget_loc(casted_key)\n\u001b[1;32m   3653\u001b[0m \u001b[38;5;28;01mexcept\u001b[39;00m \u001b[38;5;167;01mKeyError\u001b[39;00m \u001b[38;5;28;01mas\u001b[39;00m err:\n\u001b[0;32m-> 3654\u001b[0m     \u001b[38;5;28;01mraise\u001b[39;00m \u001b[38;5;167;01mKeyError\u001b[39;00m(key) \u001b[38;5;28;01mfrom\u001b[39;00m \u001b[38;5;21;01merr\u001b[39;00m\n\u001b[1;32m   3655\u001b[0m \u001b[38;5;28;01mexcept\u001b[39;00m \u001b[38;5;167;01mTypeError\u001b[39;00m:\n\u001b[1;32m   3656\u001b[0m     \u001b[38;5;66;03m# If we have a listlike key, _check_indexing_error will raise\u001b[39;00m\n\u001b[1;32m   3657\u001b[0m     \u001b[38;5;66;03m#  InvalidIndexError. Otherwise we fall through and re-raise\u001b[39;00m\n\u001b[1;32m   3658\u001b[0m     \u001b[38;5;66;03m#  the TypeError.\u001b[39;00m\n\u001b[1;32m   3659\u001b[0m     \u001b[38;5;28mself\u001b[39m\u001b[38;5;241m.\u001b[39m_check_indexing_error(key)\n",
      "\u001b[0;31mKeyError\u001b[0m: 'data'"
     ]
    }
   ],
   "source": [
    "# we create a map centered on San Francisco coordinates\n",
    "sanfrancisco_map = folium.Map(location=[37.7749295, -122.4194155], zoom_start=13)\n",
    "\n",
    "\n",
    "design_companies = df_sanfrancisco[df_sanfrancisco['data'] == 'Design company']\n",
    "# Iterate over the rows of the DataFrame\n",
    "for index, row in design_companies.iterrows():\n",
    "    name = row['name']\n",
    "    latitude = row['latitude']\n",
    "    longitude = row['longitude']\n",
    "\n",
    "     # Create a custom icon for the design company\n",
    "    icon = folium.Icon(color='blue', icon='briefcase', prefix='fa')\n",
    "\n",
    "    # Add a marker to the map for each office\n",
    "    folium.Marker([latitude, longitude], icon=icon, popup=name).add_to(sanfrancisco_map)\n",
    "\n",
    "#show the map\n",
    "sanfrancisco_map"
   ]
  },
  {
   "cell_type": "code",
   "execution_count": null,
   "id": "a263a46a",
   "metadata": {},
   "outputs": [],
   "source": []
  },
  {
   "cell_type": "code",
   "execution_count": null,
   "id": "c92e6f1b",
   "metadata": {},
   "outputs": [],
   "source": []
  },
  {
   "cell_type": "code",
   "execution_count": null,
   "id": "695adb28",
   "metadata": {},
   "outputs": [],
   "source": []
  },
  {
   "cell_type": "code",
   "execution_count": null,
   "id": "37137e9c",
   "metadata": {},
   "outputs": [],
   "source": []
  },
  {
   "cell_type": "code",
   "execution_count": null,
   "id": "2f1f5303",
   "metadata": {},
   "outputs": [],
   "source": []
  },
  {
   "cell_type": "code",
   "execution_count": null,
   "id": "b71a571f",
   "metadata": {},
   "outputs": [],
   "source": []
  },
  {
   "cell_type": "code",
   "execution_count": null,
   "id": "cd3ca0c7",
   "metadata": {},
   "outputs": [],
   "source": []
  },
  {
   "cell_type": "code",
   "execution_count": null,
   "id": "83e3eb30",
   "metadata": {},
   "outputs": [],
   "source": []
  },
  {
   "cell_type": "code",
   "execution_count": null,
   "id": "217c3c47",
   "metadata": {},
   "outputs": [],
   "source": []
  },
  {
   "cell_type": "code",
   "execution_count": null,
   "id": "ea3a416e",
   "metadata": {},
   "outputs": [],
   "source": []
  },
  {
   "cell_type": "code",
   "execution_count": null,
   "id": "484bf631",
   "metadata": {},
   "outputs": [],
   "source": []
  },
  {
   "cell_type": "code",
   "execution_count": null,
   "id": "f7a38737",
   "metadata": {},
   "outputs": [],
   "source": []
  },
  {
   "cell_type": "code",
   "execution_count": null,
   "id": "90dbbe26",
   "metadata": {},
   "outputs": [],
   "source": []
  },
  {
   "cell_type": "markdown",
   "id": "183cdb9c",
   "metadata": {},
   "source": [
    "# DRAFT"
   ]
  },
  {
   "cell_type": "code",
   "execution_count": 7,
   "id": "f3d7eb33",
   "metadata": {},
   "outputs": [],
   "source": [
    "where = \"San Francisco, United States of America\""
   ]
  },
  {
   "cell_type": "code",
   "execution_count": 8,
   "id": "facf1d5b",
   "metadata": {},
   "outputs": [],
   "source": [
    "url_geocode = f\"https://geocode.xyz/{where}?json=1\""
   ]
  },
  {
   "cell_type": "code",
   "execution_count": 9,
   "id": "18dc5ce0",
   "metadata": {},
   "outputs": [
    {
     "data": {
      "text/plain": [
       "{'distance': 'Throttled! See geocode.xyz/pricing',\n",
       " 'elevation': 'Throttled! See geocode.xyz/pricing',\n",
       " 'latt': 'Throttled! See geocode.xyz/pricing',\n",
       " 'city': 'Throttled! See geocode.xyz/pricing',\n",
       " 'prov': 'Throttled! See geocode.xyz/pricing',\n",
       " 'geocode': 'Throttled! See geocode.xyz/pricing',\n",
       " 'stnumber': 'Throttled! See geocode.xyz/pricing',\n",
       " 'staddress': 'Throttled! See geocode.xyz/pricing',\n",
       " 'geonumber': 'Throttled! See geocode.xyz/pricing',\n",
       " 'inlatt': 'Throttled! See geocode.xyz/pricing',\n",
       " 'timezone': 'Throttled! See geocode.xyz/pricing',\n",
       " 'region': 'Throttled! See geocode.xyz/pricing',\n",
       " 'postal': 'Throttled! See geocode.xyz/pricing',\n",
       " 'longt': 'Throttled! See geocode.xyz/pricing',\n",
       " 'inlongt': 'Throttled! See geocode.xyz/pricing',\n",
       " 'altgeocode': 'Throttled! See geocode.xyz/pricing'}"
      ]
     },
     "execution_count": 9,
     "metadata": {},
     "output_type": "execute_result"
    }
   ],
   "source": [
    "requests.get(url_geocode).json()"
   ]
  },
  {
   "cell_type": "code",
   "execution_count": 10,
   "id": "deed6411",
   "metadata": {},
   "outputs": [],
   "source": [
    "def get_coordinates (where):\n",
    "\n",
    "    url_geocode = f\"https://geocode.xyz/{where}?json=1\"\n",
    "    \n",
    "    try:\n",
    "        res = requests.get(url_geocode).json()\n",
    "        return res[\"longt\"], res[\"latt\"]\n",
    "    \n",
    "    except:\n",
    "        print(f\"Sorry, no matches for {where}\")\n",
    "        time.sleep(3)\n",
    "        get_coordinates(where)"
   ]
  },
  {
   "cell_type": "code",
   "execution_count": 11,
   "id": "60cfa9e2",
   "metadata": {},
   "outputs": [
    {
     "name": "stdout",
     "output_type": "stream",
     "text": [
      "-122.44164\n",
      "37.75287\n"
     ]
    }
   ],
   "source": [
    "lat, long = get_coordinates (\"San Francisco, United States of America\")\n",
    "print(lat)\n",
    "print(long)"
   ]
  },
  {
   "cell_type": "code",
   "execution_count": 62,
   "id": "3443878d",
   "metadata": {},
   "outputs": [
    {
     "ename": "NameError",
     "evalue": "name 'icon' is not defined",
     "output_type": "error",
     "traceback": [
      "\u001b[0;31m---------------------------------------------------------------------------\u001b[0m",
      "\u001b[0;31mNameError\u001b[0m                                 Traceback (most recent call last)",
      "Input \u001b[0;32mIn [62]\u001b[0m, in \u001b[0;36m<cell line: 1>\u001b[0;34m()\u001b[0m\n\u001b[1;32m     13\u001b[0m     icon \u001b[38;5;241m=\u001b[39m Icon (icon \u001b[38;5;241m=\u001b[39m \u001b[38;5;124m\"\u001b[39m\u001b[38;5;124mmoon-o\u001b[39m\u001b[38;5;124m\"\u001b[39m, \n\u001b[1;32m     14\u001b[0m                  prefix \u001b[38;5;241m=\u001b[39m \u001b[38;5;124m\"\u001b[39m\u001b[38;5;124mfa\u001b[39m\u001b[38;5;124m\"\u001b[39m, \n\u001b[1;32m     15\u001b[0m                  color \u001b[38;5;241m=\u001b[39m \u001b[38;5;124m\"\u001b[39m\u001b[38;5;124mwhite\u001b[39m\u001b[38;5;124m\"\u001b[39m, \n\u001b[1;32m     16\u001b[0m                  icon_color \u001b[38;5;241m=\u001b[39m \u001b[38;5;124m\"\u001b[39m\u001b[38;5;124mblack\u001b[39m\u001b[38;5;124m\"\u001b[39m)\n\u001b[1;32m     18\u001b[0m \u001b[38;5;66;03m# 2. With the icon: I pass that to the Marker\u001b[39;00m\n\u001b[0;32m---> 20\u001b[0m new_marker \u001b[38;5;241m=\u001b[39m Marker(\u001b[38;5;241m*\u001b[39m\u001b[38;5;241m*\u001b[39mall_together, icon \u001b[38;5;241m=\u001b[39m \u001b[43micon\u001b[49m)\n\u001b[1;32m     22\u001b[0m \u001b[38;5;66;03m# 3. Add a Marker per row\u001b[39;00m\n\u001b[1;32m     24\u001b[0m new_marker\u001b[38;5;241m.\u001b[39madd_to(mad_map)\n",
      "\u001b[0;31mNameError\u001b[0m: name 'icon' is not defined"
     ]
    }
   ],
   "source": [
    "for index, row in df.iterrows():\n",
    "    \n",
    "    all_together = {\"location\": [row[\"lat\"], row[\"lon\"]]}\n",
    "            \n",
    "\n",
    "    if row[\"category_id\"] == \"12056\":\n",
    "        icon = Icon (icon = \"laptop\",\n",
    "                     prefix = \"fa\", \n",
    "                     color = \"red\", \n",
    "                     icon_color = \"white\")\n",
    "        \n",
    "    elif row[\"category_id\"] == \"16037\":\n",
    "        icon = Icon (icon = \"moon-o\", \n",
    "                     prefix = \"fa\", \n",
    "                     color = \"white\", \n",
    "                     icon_color = \"black\")\n",
    "    \n",
    "    # 2. With the icon: I pass that to the Marker\n",
    "\n",
    "    new_marker = Marker(**all_together, icon = icon)\n",
    "    \n",
    "    # 3. Add a Marker per row\n",
    "    \n",
    "    new_marker.add_to(mad_map)"
   ]
  }
 ],
 "metadata": {
  "kernelspec": {
   "display_name": "ironhack",
   "language": "python",
   "name": "ironhack"
  },
  "language_info": {
   "codemirror_mode": {
    "name": "ipython",
    "version": 3
   },
   "file_extension": ".py",
   "mimetype": "text/x-python",
   "name": "python",
   "nbconvert_exporter": "python",
   "pygments_lexer": "ipython3",
   "version": "3.9.12"
  },
  "toc": {
   "base_numbering": 1,
   "nav_menu": {},
   "number_sections": true,
   "sideBar": true,
   "skip_h1_title": false,
   "title_cell": "Table of Contents",
   "title_sidebar": "Contents",
   "toc_cell": false,
   "toc_position": {},
   "toc_section_display": true,
   "toc_window_display": false
  }
 },
 "nbformat": 4,
 "nbformat_minor": 5
}
