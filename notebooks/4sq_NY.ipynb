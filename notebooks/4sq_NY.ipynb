{
 "cells": [
  {
   "cell_type": "markdown",
   "id": "8eabf04f",
   "metadata": {},
   "source": [
    "# 4sq"
   ]
  },
  {
   "cell_type": "code",
   "execution_count": 1,
   "id": "f7334e72",
   "metadata": {},
   "outputs": [],
   "source": [
    "import getpass\n",
    "\n",
    "import requests\n",
    "import json\n",
    "import pandas as pd"
   ]
  },
  {
   "cell_type": "markdown",
   "id": "5ccffdcc",
   "metadata": {},
   "source": [
    "fsq3IBz8M5CTm58GImdCWcCYGDNh5OmA6s8Ue4/YPN7SNe8="
   ]
  },
  {
   "cell_type": "markdown",
   "id": "94e55737",
   "metadata": {},
   "source": [
    "## Token"
   ]
  },
  {
   "cell_type": "code",
   "execution_count": 2,
   "id": "1b43b39e",
   "metadata": {
    "scrolled": true
   },
   "outputs": [
    {
     "name": "stdout",
     "output_type": "stream",
     "text": [
      "Enter your token: ········\n"
     ]
    }
   ],
   "source": [
    "token = getpass.getpass(prompt='Enter your token: ')"
   ]
  },
  {
   "cell_type": "markdown",
   "id": "7bfa9e07",
   "metadata": {},
   "source": [
    "## NEW YORK"
   ]
  },
  {
   "cell_type": "code",
   "execution_count": null,
   "id": "d75d0c76",
   "metadata": {},
   "outputs": [],
   "source": [
    "new_york = [\"40.748782\", \"-73.986534\"]  # LAT / LON"
   ]
  },
  {
   "cell_type": "markdown",
   "id": "32ef98e6",
   "metadata": {},
   "source": [
    "###### category"
   ]
  },
  {
   "cell_type": "code",
   "execution_count": null,
   "id": "923b9b71",
   "metadata": {},
   "outputs": [],
   "source": [
    "def query_from_frousquare_category (lon, lat, radius, category, limit):\n",
    "\n",
    "    url = f\"https://api.foursquare.com/v3/places/search?ll={lon}%2C{lat}&radius={radius}&categories={category}&sort=DISTANCE&limit={limit}\"\n",
    "    headers = {\n",
    "        \"accept\": \"application/json\",\n",
    "        \"Authorization\": token\n",
    "    }\n",
    "\n",
    "    response = requests.get(url, headers=headers)\n",
    "    \n",
    "    return response"
   ]
  },
  {
   "cell_type": "markdown",
   "id": "e468c101",
   "metadata": {},
   "source": [
    "###### query"
   ]
  },
  {
   "cell_type": "code",
   "execution_count": null,
   "id": "fc1c942d",
   "metadata": {},
   "outputs": [],
   "source": [
    "def query_from_frousquare (query, lon, lat, radius, limit):\n",
    "    \n",
    "    url = f\"https://api.foursquare.com/v3/places/search?query={query}&ll={lon}%2C{lat}&radius={radius}&sort=DISTANCE&limit={limit}\"\n",
    "\n",
    "    headers = {\n",
    "        \"accept\": \"application/json\",\n",
    "        \"Authorization\": token\n",
    "    }\n",
    "\n",
    "    response = requests.get(url, headers=headers)\n",
    "    \n",
    "    return response\n",
    "\n",
    "    "
   ]
  },
  {
   "cell_type": "markdown",
   "id": "6e2be993",
   "metadata": {},
   "source": [
    "###### df"
   ]
  },
  {
   "cell_type": "code",
   "execution_count": null,
   "id": "acf5dff8",
   "metadata": {},
   "outputs": [],
   "source": [
    "def something_near_somewhere (element):\n",
    "    \n",
    "    name = element[\"name\"]\n",
    "    address = element[\"location\"][\"formatted_address\"]\n",
    "    lat = element[\"geocodes\"][\"main\"][\"latitude\"]\n",
    "    lon = element[\"geocodes\"][\"main\"][\"longitude\"]\n",
    "    category_id = element[\"categories\"][0][\"id\"]\n",
    "    category = element[\"categories\"][0][\"name\"]\n",
    "\n",
    "    dict_ = {\"name\": name, \"address\":address, \"lat\": lat, \"lon\": lon, \"category_id\" : category_id, \"category\": category}\n",
    "    \n",
    "    return dict_\n"
   ]
  },
  {
   "cell_type": "markdown",
   "id": "29ec9973",
   "metadata": {},
   "source": [
    "### Preschool"
   ]
  },
  {
   "cell_type": "code",
   "execution_count": null,
   "id": "84fe0a7b",
   "metadata": {},
   "outputs": [],
   "source": [
    "response = query_from_frousquare_category (new_york[0], new_york[1], 2000, 12056, 3)\n",
    "response = response.json()"
   ]
  },
  {
   "cell_type": "code",
   "execution_count": null,
   "id": "a2355665",
   "metadata": {},
   "outputs": [],
   "source": [
    "new_lst_1 = []\n",
    "\n",
    "for i in response[\"results\"]:\n",
    "    new_lst_1.append(something_near_somewhere(i))"
   ]
  },
  {
   "cell_type": "code",
   "execution_count": null,
   "id": "24ef2939",
   "metadata": {
    "scrolled": true
   },
   "outputs": [],
   "source": [
    "df1 = pd.DataFrame(new_lst_1)\n",
    "df1"
   ]
  },
  {
   "cell_type": "markdown",
   "id": "52452567",
   "metadata": {},
   "source": [
    "### Elementary school"
   ]
  },
  {
   "cell_type": "code",
   "execution_count": null,
   "id": "423f665f",
   "metadata": {},
   "outputs": [],
   "source": [
    "response = query_from_frousquare_category (new_york[0], new_york[1], 2000,12057 , 3)\n",
    "response = response.json()"
   ]
  },
  {
   "cell_type": "code",
   "execution_count": null,
   "id": "22d6b31f",
   "metadata": {},
   "outputs": [],
   "source": [
    "new_lst_2 = []\n",
    "\n",
    "for i in response[\"results\"]:\n",
    "    new_lst_2.append(something_near_somewhere(i))"
   ]
  },
  {
   "cell_type": "code",
   "execution_count": null,
   "id": "9da2b768",
   "metadata": {},
   "outputs": [],
   "source": [
    "df2 = pd.DataFrame(new_lst_2)\n",
    "df2"
   ]
  },
  {
   "cell_type": "markdown",
   "id": "f094eaee",
   "metadata": {},
   "source": [
    "### High school"
   ]
  },
  {
   "cell_type": "code",
   "execution_count": null,
   "id": "f6116ada",
   "metadata": {},
   "outputs": [],
   "source": [
    "response = query_from_frousquare_category (new_york[0], new_york[1], 2000,12059 , 3)\n",
    "response = response.json()"
   ]
  },
  {
   "cell_type": "code",
   "execution_count": null,
   "id": "96580daf",
   "metadata": {},
   "outputs": [],
   "source": [
    "new_lst_3 = []\n",
    "\n",
    "for i in response[\"results\"]:\n",
    "    new_lst_3.append(something_near_somewhere(i))"
   ]
  },
  {
   "cell_type": "code",
   "execution_count": null,
   "id": "dfed12e3",
   "metadata": {
    "scrolled": false
   },
   "outputs": [],
   "source": [
    "df3 = pd.DataFrame(new_lst_3)\n",
    "df3"
   ]
  },
  {
   "cell_type": "markdown",
   "id": "4246a5b6",
   "metadata": {},
   "source": [
    "### Playground park"
   ]
  },
  {
   "cell_type": "code",
   "execution_count": null,
   "id": "59f22c54",
   "metadata": {},
   "outputs": [],
   "source": [
    "response = query_from_frousquare_category (new_york[0], new_york[1], 2000,16037 , 3)\n",
    "response = response.json()"
   ]
  },
  {
   "cell_type": "code",
   "execution_count": null,
   "id": "12256518",
   "metadata": {},
   "outputs": [],
   "source": [
    "new_lst_4 = []\n",
    "\n",
    "for i in response[\"results\"]:\n",
    "    new_lst_4.append(something_near_somewhere(i))"
   ]
  },
  {
   "cell_type": "code",
   "execution_count": null,
   "id": "ec34ba03",
   "metadata": {},
   "outputs": [],
   "source": [
    "df4 = pd.DataFrame(new_lst_4)\n",
    "df4"
   ]
  },
  {
   "cell_type": "markdown",
   "id": "0b216f83",
   "metadata": {},
   "source": [
    "### Airports"
   ]
  },
  {
   "cell_type": "code",
   "execution_count": 19,
   "id": "0eb62d12",
   "metadata": {},
   "outputs": [],
   "source": [
    "response = query_from_frousquare_category (new_york[0], new_york[1], 15000, 19040 , 5)\n",
    "response = response.json()"
   ]
  },
  {
   "cell_type": "code",
   "execution_count": 20,
   "id": "08dee4f8",
   "metadata": {},
   "outputs": [],
   "source": [
    "new_lst_5 = []\n",
    "\n",
    "for i in response[\"results\"]:\n",
    "    new_lst_5.append(something_near_somewhere(i))"
   ]
  },
  {
   "cell_type": "code",
   "execution_count": 21,
   "id": "08656226",
   "metadata": {
    "scrolled": true
   },
   "outputs": [
    {
     "data": {
      "text/html": [
       "<div>\n",
       "<style scoped>\n",
       "    .dataframe tbody tr th:only-of-type {\n",
       "        vertical-align: middle;\n",
       "    }\n",
       "\n",
       "    .dataframe tbody tr th {\n",
       "        vertical-align: top;\n",
       "    }\n",
       "\n",
       "    .dataframe thead th {\n",
       "        text-align: right;\n",
       "    }\n",
       "</style>\n",
       "<table border=\"1\" class=\"dataframe\">\n",
       "  <thead>\n",
       "    <tr style=\"text-align: right;\">\n",
       "      <th></th>\n",
       "      <th>name</th>\n",
       "      <th>address</th>\n",
       "      <th>lat</th>\n",
       "      <th>lon</th>\n",
       "      <th>category_id</th>\n",
       "      <th>category</th>\n",
       "    </tr>\n",
       "  </thead>\n",
       "  <tbody>\n",
       "    <tr>\n",
       "      <th>0</th>\n",
       "      <td>LaGuardia Airport (LGA)</td>\n",
       "      <td>Queens, NY 11371</td>\n",
       "      <td>40.774527</td>\n",
       "      <td>-73.871941</td>\n",
       "      <td>19040</td>\n",
       "      <td>International Airport</td>\n",
       "    </tr>\n",
       "  </tbody>\n",
       "</table>\n",
       "</div>"
      ],
      "text/plain": [
       "                      name           address        lat        lon   \n",
       "0  LaGuardia Airport (LGA)  Queens, NY 11371  40.774527 -73.871941  \\\n",
       "\n",
       "   category_id               category  \n",
       "0        19040  International Airport  "
      ]
     },
     "execution_count": 21,
     "metadata": {},
     "output_type": "execute_result"
    }
   ],
   "source": [
    "df5 = pd.DataFrame(new_lst_5)\n",
    "df5"
   ]
  },
  {
   "cell_type": "markdown",
   "id": "69331b3d",
   "metadata": {},
   "source": [
    "### Train stations"
   ]
  },
  {
   "cell_type": "code",
   "execution_count": 22,
   "id": "81937d1a",
   "metadata": {},
   "outputs": [],
   "source": [
    "response = query_from_frousquare_category (new_york[0], new_york[1], 2000, 19047 , 5)\n",
    "response = response.json()"
   ]
  },
  {
   "cell_type": "code",
   "execution_count": 23,
   "id": "479673c8",
   "metadata": {},
   "outputs": [],
   "source": [
    "new_lst_6 = []\n",
    "\n",
    "for i in response[\"results\"]:\n",
    "    new_lst_6.append(something_near_somewhere(i))"
   ]
  },
  {
   "cell_type": "code",
   "execution_count": 24,
   "id": "48a6c6be",
   "metadata": {},
   "outputs": [
    {
     "data": {
      "text/html": [
       "<div>\n",
       "<style scoped>\n",
       "    .dataframe tbody tr th:only-of-type {\n",
       "        vertical-align: middle;\n",
       "    }\n",
       "\n",
       "    .dataframe tbody tr th {\n",
       "        vertical-align: top;\n",
       "    }\n",
       "\n",
       "    .dataframe thead th {\n",
       "        text-align: right;\n",
       "    }\n",
       "</style>\n",
       "<table border=\"1\" class=\"dataframe\">\n",
       "  <thead>\n",
       "    <tr style=\"text-align: right;\">\n",
       "      <th></th>\n",
       "      <th>name</th>\n",
       "      <th>address</th>\n",
       "      <th>lat</th>\n",
       "      <th>lon</th>\n",
       "      <th>category_id</th>\n",
       "      <th>category</th>\n",
       "    </tr>\n",
       "  </thead>\n",
       "  <tbody>\n",
       "    <tr>\n",
       "      <th>0</th>\n",
       "      <td>MTA - 34th Street - Herald Square Subway Station</td>\n",
       "      <td>W 34TH St (at W 34th St), New York, NY 10001</td>\n",
       "      <td>40.749805</td>\n",
       "      <td>-73.988125</td>\n",
       "      <td>19047</td>\n",
       "      <td>Rail Station</td>\n",
       "    </tr>\n",
       "    <tr>\n",
       "      <th>1</th>\n",
       "      <td>Penn Station</td>\n",
       "      <td>393 7th Ave, New York, NY 10001</td>\n",
       "      <td>40.749174</td>\n",
       "      <td>-73.991508</td>\n",
       "      <td>19047</td>\n",
       "      <td>Rail Station</td>\n",
       "    </tr>\n",
       "    <tr>\n",
       "      <th>2</th>\n",
       "      <td>LIRR - Lost &amp; Found</td>\n",
       "      <td>New York, NY 10119</td>\n",
       "      <td>40.749995</td>\n",
       "      <td>-73.991059</td>\n",
       "      <td>19047</td>\n",
       "      <td>Rail Station</td>\n",
       "    </tr>\n",
       "    <tr>\n",
       "      <th>3</th>\n",
       "      <td>Calle 34–Estación Penn</td>\n",
       "      <td>New York, NY 10119</td>\n",
       "      <td>40.750860</td>\n",
       "      <td>-73.991006</td>\n",
       "      <td>19047</td>\n",
       "      <td>Rail Station</td>\n",
       "    </tr>\n",
       "    <tr>\n",
       "      <th>4</th>\n",
       "      <td>LIRR Tickets &amp; Information</td>\n",
       "      <td>Penn Station, New York, NY 10001</td>\n",
       "      <td>40.750743</td>\n",
       "      <td>-73.991351</td>\n",
       "      <td>19047</td>\n",
       "      <td>Rail Station</td>\n",
       "    </tr>\n",
       "  </tbody>\n",
       "</table>\n",
       "</div>"
      ],
      "text/plain": [
       "                                               name   \n",
       "0  MTA - 34th Street - Herald Square Subway Station  \\\n",
       "1                                      Penn Station   \n",
       "2                               LIRR - Lost & Found   \n",
       "3                            Calle 34–Estación Penn   \n",
       "4                        LIRR Tickets & Information   \n",
       "\n",
       "                                        address        lat        lon   \n",
       "0  W 34TH St (at W 34th St), New York, NY 10001  40.749805 -73.988125  \\\n",
       "1               393 7th Ave, New York, NY 10001  40.749174 -73.991508   \n",
       "2                            New York, NY 10119  40.749995 -73.991059   \n",
       "3                            New York, NY 10119  40.750860 -73.991006   \n",
       "4              Penn Station, New York, NY 10001  40.750743 -73.991351   \n",
       "\n",
       "   category_id      category  \n",
       "0        19047  Rail Station  \n",
       "1        19047  Rail Station  \n",
       "2        19047  Rail Station  \n",
       "3        19047  Rail Station  \n",
       "4        19047  Rail Station  "
      ]
     },
     "execution_count": 24,
     "metadata": {},
     "output_type": "execute_result"
    }
   ],
   "source": [
    "df6 = pd.DataFrame(new_lst_6)\n",
    "df6"
   ]
  },
  {
   "cell_type": "markdown",
   "id": "604b9c5c",
   "metadata": {},
   "source": [
    "### Vegan restaurants"
   ]
  },
  {
   "cell_type": "code",
   "execution_count": 25,
   "id": "9f8f37da",
   "metadata": {},
   "outputs": [],
   "source": [
    "response = query_from_frousquare_category (new_york[0], new_york[1], 2000, 13377 , 10)\n",
    "response = response.json()"
   ]
  },
  {
   "cell_type": "code",
   "execution_count": 26,
   "id": "759356ad",
   "metadata": {},
   "outputs": [],
   "source": [
    "new_lst_7 = []\n",
    "\n",
    "for i in response[\"results\"]:\n",
    "    new_lst_7.append(something_near_somewhere(i))"
   ]
  },
  {
   "cell_type": "code",
   "execution_count": 27,
   "id": "0108e494",
   "metadata": {},
   "outputs": [
    {
     "data": {
      "text/html": [
       "<div>\n",
       "<style scoped>\n",
       "    .dataframe tbody tr th:only-of-type {\n",
       "        vertical-align: middle;\n",
       "    }\n",
       "\n",
       "    .dataframe tbody tr th {\n",
       "        vertical-align: top;\n",
       "    }\n",
       "\n",
       "    .dataframe thead th {\n",
       "        text-align: right;\n",
       "    }\n",
       "</style>\n",
       "<table border=\"1\" class=\"dataframe\">\n",
       "  <thead>\n",
       "    <tr style=\"text-align: right;\">\n",
       "      <th></th>\n",
       "      <th>name</th>\n",
       "      <th>address</th>\n",
       "      <th>lat</th>\n",
       "      <th>lon</th>\n",
       "      <th>category_id</th>\n",
       "      <th>category</th>\n",
       "    </tr>\n",
       "  </thead>\n",
       "  <tbody>\n",
       "    <tr>\n",
       "      <th>0</th>\n",
       "      <td>Hangawi</td>\n",
       "      <td>12 E 32nd St (btwn Madison &amp; 5th Ave), New Yor...</td>\n",
       "      <td>40.746606</td>\n",
       "      <td>-73.984724</td>\n",
       "      <td>13068</td>\n",
       "      <td>American Restaurant</td>\n",
       "    </tr>\n",
       "    <tr>\n",
       "      <th>1</th>\n",
       "      <td>PurpleThai</td>\n",
       "      <td>1204 Broadway, New York, NY 10001</td>\n",
       "      <td>40.746241</td>\n",
       "      <td>-73.988248</td>\n",
       "      <td>13352</td>\n",
       "      <td>Thai Restaurant</td>\n",
       "    </tr>\n",
       "    <tr>\n",
       "      <th>2</th>\n",
       "      <td>Sweetgreen</td>\n",
       "      <td>1384 Broadway (Between 37th St and 38th St), N...</td>\n",
       "      <td>40.752533</td>\n",
       "      <td>-73.987009</td>\n",
       "      <td>13065</td>\n",
       "      <td>Restaurant</td>\n",
       "    </tr>\n",
       "    <tr>\n",
       "      <th>3</th>\n",
       "      <td>Beyond Sushi Herald Square</td>\n",
       "      <td>134 W 37th St, New York, NY 10018</td>\n",
       "      <td>40.752332</td>\n",
       "      <td>-73.988443</td>\n",
       "      <td>13072</td>\n",
       "      <td>Asian Restaurant</td>\n",
       "    </tr>\n",
       "    <tr>\n",
       "      <th>4</th>\n",
       "      <td>Sweetgreen</td>\n",
       "      <td>2 Park Ave (at E 32nd St), New York, NY 10016</td>\n",
       "      <td>40.746341</td>\n",
       "      <td>-73.982530</td>\n",
       "      <td>13065</td>\n",
       "      <td>Restaurant</td>\n",
       "    </tr>\n",
       "    <tr>\n",
       "      <th>5</th>\n",
       "      <td>Franchia</td>\n",
       "      <td>12 Park Ave (at E 34th St.), New York, NY 10016</td>\n",
       "      <td>40.747505</td>\n",
       "      <td>-73.981396</td>\n",
       "      <td>13072</td>\n",
       "      <td>Asian Restaurant</td>\n",
       "    </tr>\n",
       "    <tr>\n",
       "      <th>6</th>\n",
       "      <td>Sweetgreen</td>\n",
       "      <td>1164 Broadway (at W 28th St), New York, NY 10001</td>\n",
       "      <td>40.744773</td>\n",
       "      <td>-73.988670</td>\n",
       "      <td>13065</td>\n",
       "      <td>Restaurant</td>\n",
       "    </tr>\n",
       "    <tr>\n",
       "      <th>7</th>\n",
       "      <td>Scen</td>\n",
       "      <td>1165 Broadway (btwn 27th St &amp; 26th St), New Yo...</td>\n",
       "      <td>40.744816</td>\n",
       "      <td>-73.989065</td>\n",
       "      <td>13377</td>\n",
       "      <td>Vegan and Vegetarian Restaurant</td>\n",
       "    </tr>\n",
       "    <tr>\n",
       "      <th>8</th>\n",
       "      <td>Sweetgreen</td>\n",
       "      <td>7 Pennsylvania Plaza (W. 30th St), New York, N...</td>\n",
       "      <td>40.748877</td>\n",
       "      <td>-73.992500</td>\n",
       "      <td>13065</td>\n",
       "      <td>Restaurant</td>\n",
       "    </tr>\n",
       "    <tr>\n",
       "      <th>9</th>\n",
       "      <td>Planta Queen</td>\n",
       "      <td>15 W 27th St (btwn Broadway &amp; 5th Ave), New Yo...</td>\n",
       "      <td>40.744459</td>\n",
       "      <td>-73.988309</td>\n",
       "      <td>13276</td>\n",
       "      <td>Sushi Restaurant</td>\n",
       "    </tr>\n",
       "  </tbody>\n",
       "</table>\n",
       "</div>"
      ],
      "text/plain": [
       "                         name   \n",
       "0                     Hangawi  \\\n",
       "1                  PurpleThai   \n",
       "2                  Sweetgreen   \n",
       "3  Beyond Sushi Herald Square   \n",
       "4                  Sweetgreen   \n",
       "5                    Franchia   \n",
       "6                  Sweetgreen   \n",
       "7                        Scen   \n",
       "8                  Sweetgreen   \n",
       "9                Planta Queen   \n",
       "\n",
       "                                             address        lat        lon   \n",
       "0  12 E 32nd St (btwn Madison & 5th Ave), New Yor...  40.746606 -73.984724  \\\n",
       "1                  1204 Broadway, New York, NY 10001  40.746241 -73.988248   \n",
       "2  1384 Broadway (Between 37th St and 38th St), N...  40.752533 -73.987009   \n",
       "3                  134 W 37th St, New York, NY 10018  40.752332 -73.988443   \n",
       "4      2 Park Ave (at E 32nd St), New York, NY 10016  40.746341 -73.982530   \n",
       "5    12 Park Ave (at E 34th St.), New York, NY 10016  40.747505 -73.981396   \n",
       "6   1164 Broadway (at W 28th St), New York, NY 10001  40.744773 -73.988670   \n",
       "7  1165 Broadway (btwn 27th St & 26th St), New Yo...  40.744816 -73.989065   \n",
       "8  7 Pennsylvania Plaza (W. 30th St), New York, N...  40.748877 -73.992500   \n",
       "9  15 W 27th St (btwn Broadway & 5th Ave), New Yo...  40.744459 -73.988309   \n",
       "\n",
       "   category_id                         category  \n",
       "0        13068              American Restaurant  \n",
       "1        13352                  Thai Restaurant  \n",
       "2        13065                       Restaurant  \n",
       "3        13072                 Asian Restaurant  \n",
       "4        13065                       Restaurant  \n",
       "5        13072                 Asian Restaurant  \n",
       "6        13065                       Restaurant  \n",
       "7        13377  Vegan and Vegetarian Restaurant  \n",
       "8        13065                       Restaurant  \n",
       "9        13276                 Sushi Restaurant  "
      ]
     },
     "execution_count": 27,
     "metadata": {},
     "output_type": "execute_result"
    }
   ],
   "source": [
    "df7 = pd.DataFrame(new_lst_7)\n",
    "df7"
   ]
  },
  {
   "cell_type": "markdown",
   "id": "f1841df3",
   "metadata": {},
   "source": [
    "### Pubs"
   ]
  },
  {
   "cell_type": "code",
   "execution_count": 28,
   "id": "abb4681c",
   "metadata": {},
   "outputs": [],
   "source": [
    "response = query_from_frousquare_category (new_york[0], new_york[1], 2000, 13018 , 5)\n",
    "response = response.json()"
   ]
  },
  {
   "cell_type": "code",
   "execution_count": 29,
   "id": "293724cd",
   "metadata": {},
   "outputs": [],
   "source": [
    "new_lst_9 = []\n",
    "\n",
    "for i in response[\"results\"]:\n",
    "    new_lst_9.append(something_near_somewhere(i))"
   ]
  },
  {
   "cell_type": "code",
   "execution_count": 30,
   "id": "bcca05ac",
   "metadata": {},
   "outputs": [
    {
     "data": {
      "text/html": [
       "<div>\n",
       "<style scoped>\n",
       "    .dataframe tbody tr th:only-of-type {\n",
       "        vertical-align: middle;\n",
       "    }\n",
       "\n",
       "    .dataframe tbody tr th {\n",
       "        vertical-align: top;\n",
       "    }\n",
       "\n",
       "    .dataframe thead th {\n",
       "        text-align: right;\n",
       "    }\n",
       "</style>\n",
       "<table border=\"1\" class=\"dataframe\">\n",
       "  <thead>\n",
       "    <tr style=\"text-align: right;\">\n",
       "      <th></th>\n",
       "      <th>name</th>\n",
       "      <th>address</th>\n",
       "      <th>lat</th>\n",
       "      <th>lon</th>\n",
       "      <th>category_id</th>\n",
       "      <th>category</th>\n",
       "    </tr>\n",
       "  </thead>\n",
       "  <tbody>\n",
       "    <tr>\n",
       "      <th>0</th>\n",
       "      <td>O'Reilly's</td>\n",
       "      <td>21 W 35th St (btwn 5th &amp; 6th Ave.), New York, ...</td>\n",
       "      <td>40.749722</td>\n",
       "      <td>-73.985196</td>\n",
       "      <td>13018</td>\n",
       "      <td>Pub</td>\n",
       "    </tr>\n",
       "    <tr>\n",
       "      <th>1</th>\n",
       "      <td>5th &amp; Mad</td>\n",
       "      <td>7 E 36th St (btwn Madison &amp; 5th Ave), New York...</td>\n",
       "      <td>40.749621</td>\n",
       "      <td>-73.982964</td>\n",
       "      <td>13009</td>\n",
       "      <td>Cocktail Bar</td>\n",
       "    </tr>\n",
       "    <tr>\n",
       "      <th>2</th>\n",
       "      <td>The Celtic Rail</td>\n",
       "      <td>137 W 33rd St (33rd St &amp; 7th Ave), New York, N...</td>\n",
       "      <td>40.750081</td>\n",
       "      <td>-73.989883</td>\n",
       "      <td>13018</td>\n",
       "      <td>Pub</td>\n",
       "    </tr>\n",
       "    <tr>\n",
       "      <th>3</th>\n",
       "      <td>Blaggards</td>\n",
       "      <td>8 W 38th St (btwn 5th &amp; 6th Ave.), New York, N...</td>\n",
       "      <td>40.751169</td>\n",
       "      <td>-73.983593</td>\n",
       "      <td>13018</td>\n",
       "      <td>Pub</td>\n",
       "    </tr>\n",
       "    <tr>\n",
       "      <th>4</th>\n",
       "      <td>Crooked Knife</td>\n",
       "      <td>29 E 30th St (btw Park &amp; Madison), New York, N...</td>\n",
       "      <td>40.745164</td>\n",
       "      <td>-73.984187</td>\n",
       "      <td>13018</td>\n",
       "      <td>Pub</td>\n",
       "    </tr>\n",
       "  </tbody>\n",
       "</table>\n",
       "</div>"
      ],
      "text/plain": [
       "              name                                            address   \n",
       "0       O'Reilly's  21 W 35th St (btwn 5th & 6th Ave.), New York, ...  \\\n",
       "1        5th & Mad  7 E 36th St (btwn Madison & 5th Ave), New York...   \n",
       "2  The Celtic Rail  137 W 33rd St (33rd St & 7th Ave), New York, N...   \n",
       "3        Blaggards  8 W 38th St (btwn 5th & 6th Ave.), New York, N...   \n",
       "4    Crooked Knife  29 E 30th St (btw Park & Madison), New York, N...   \n",
       "\n",
       "         lat        lon  category_id      category  \n",
       "0  40.749722 -73.985196        13018           Pub  \n",
       "1  40.749621 -73.982964        13009  Cocktail Bar  \n",
       "2  40.750081 -73.989883        13018           Pub  \n",
       "3  40.751169 -73.983593        13018           Pub  \n",
       "4  40.745164 -73.984187        13018           Pub  "
      ]
     },
     "execution_count": 30,
     "metadata": {},
     "output_type": "execute_result"
    }
   ],
   "source": [
    "df9 = pd.DataFrame(new_lst_9)\n",
    "df9"
   ]
  },
  {
   "cell_type": "markdown",
   "id": "665feb1b",
   "metadata": {},
   "source": [
    "### Night club"
   ]
  },
  {
   "cell_type": "code",
   "execution_count": 31,
   "id": "ebff3397",
   "metadata": {},
   "outputs": [],
   "source": [
    "response = query_from_frousquare_category (new_york[0], new_york[1], 2000, 10032 , 5)\n",
    "response = response.json()"
   ]
  },
  {
   "cell_type": "code",
   "execution_count": 32,
   "id": "2c80c162",
   "metadata": {},
   "outputs": [],
   "source": [
    "new_lst_10 = []\n",
    "\n",
    "for i in response[\"results\"]:\n",
    "    new_lst_10.append(something_near_somewhere(i))"
   ]
  },
  {
   "cell_type": "code",
   "execution_count": 33,
   "id": "ce5f94f1",
   "metadata": {},
   "outputs": [
    {
     "data": {
      "text/html": [
       "<div>\n",
       "<style scoped>\n",
       "    .dataframe tbody tr th:only-of-type {\n",
       "        vertical-align: middle;\n",
       "    }\n",
       "\n",
       "    .dataframe tbody tr th {\n",
       "        vertical-align: top;\n",
       "    }\n",
       "\n",
       "    .dataframe thead th {\n",
       "        text-align: right;\n",
       "    }\n",
       "</style>\n",
       "<table border=\"1\" class=\"dataframe\">\n",
       "  <thead>\n",
       "    <tr style=\"text-align: right;\">\n",
       "      <th></th>\n",
       "      <th>name</th>\n",
       "      <th>address</th>\n",
       "      <th>lat</th>\n",
       "      <th>lon</th>\n",
       "      <th>category_id</th>\n",
       "      <th>category</th>\n",
       "    </tr>\n",
       "  </thead>\n",
       "  <tbody>\n",
       "    <tr>\n",
       "      <th>0</th>\n",
       "      <td>DanceSport Salsa &amp; Bachata Parties NYC</td>\n",
       "      <td>22 W 34th St, New York, NY 10001</td>\n",
       "      <td>40.748937</td>\n",
       "      <td>-73.986301</td>\n",
       "      <td>10032</td>\n",
       "      <td>Night Club</td>\n",
       "    </tr>\n",
       "    <tr>\n",
       "      <th>1</th>\n",
       "      <td>Union League Club</td>\n",
       "      <td>38 E 37th St (btw Madison Ave &amp; Park Ave), New...</td>\n",
       "      <td>40.748987</td>\n",
       "      <td>-73.980450</td>\n",
       "      <td>10032</td>\n",
       "      <td>Night Club</td>\n",
       "    </tr>\n",
       "    <tr>\n",
       "      <th>2</th>\n",
       "      <td>Nebula</td>\n",
       "      <td>135 W 41st St (btwn 6th Ave &amp; Broadway), New Y...</td>\n",
       "      <td>40.754943</td>\n",
       "      <td>-73.985706</td>\n",
       "      <td>10032</td>\n",
       "      <td>Night Club</td>\n",
       "    </tr>\n",
       "    <tr>\n",
       "      <th>3</th>\n",
       "      <td>Mission Nightclub</td>\n",
       "      <td>229 W 28th St (Between 7th &amp; 8th Ave), New Yor...</td>\n",
       "      <td>40.748059</td>\n",
       "      <td>-73.994827</td>\n",
       "      <td>10032</td>\n",
       "      <td>Night Club</td>\n",
       "    </tr>\n",
       "    <tr>\n",
       "      <th>4</th>\n",
       "      <td>Somewhere Nowhere NYC</td>\n",
       "      <td>112 W 25th St, New York, NY 10001</td>\n",
       "      <td>40.744283</td>\n",
       "      <td>-73.992800</td>\n",
       "      <td>10032</td>\n",
       "      <td>Night Club</td>\n",
       "    </tr>\n",
       "  </tbody>\n",
       "</table>\n",
       "</div>"
      ],
      "text/plain": [
       "                                     name   \n",
       "0  DanceSport Salsa & Bachata Parties NYC  \\\n",
       "1                       Union League Club   \n",
       "2                                  Nebula   \n",
       "3                       Mission Nightclub   \n",
       "4                   Somewhere Nowhere NYC   \n",
       "\n",
       "                                             address        lat        lon   \n",
       "0                   22 W 34th St, New York, NY 10001  40.748937 -73.986301  \\\n",
       "1  38 E 37th St (btw Madison Ave & Park Ave), New...  40.748987 -73.980450   \n",
       "2  135 W 41st St (btwn 6th Ave & Broadway), New Y...  40.754943 -73.985706   \n",
       "3  229 W 28th St (Between 7th & 8th Ave), New Yor...  40.748059 -73.994827   \n",
       "4                  112 W 25th St, New York, NY 10001  40.744283 -73.992800   \n",
       "\n",
       "   category_id    category  \n",
       "0        10032  Night Club  \n",
       "1        10032  Night Club  \n",
       "2        10032  Night Club  \n",
       "3        10032  Night Club  \n",
       "4        10032  Night Club  "
      ]
     },
     "execution_count": 33,
     "metadata": {},
     "output_type": "execute_result"
    }
   ],
   "source": [
    "df10 = pd.DataFrame(new_lst_10)\n",
    "df10"
   ]
  },
  {
   "cell_type": "markdown",
   "id": "9e0a3dba",
   "metadata": {},
   "source": [
    "### Pet Grooming Service"
   ]
  },
  {
   "cell_type": "code",
   "execution_count": 34,
   "id": "eb4de760",
   "metadata": {},
   "outputs": [],
   "source": [
    "response = query_from_frousquare_category (new_york[0], new_york[1], 2000, 11134 , 5)\n",
    "response = response.json()"
   ]
  },
  {
   "cell_type": "code",
   "execution_count": 35,
   "id": "7d297ff2",
   "metadata": {},
   "outputs": [],
   "source": [
    "new_lst_11 = []\n",
    "\n",
    "for i in response[\"results\"]:\n",
    "    new_lst_11.append(something_near_somewhere(i))"
   ]
  },
  {
   "cell_type": "code",
   "execution_count": 36,
   "id": "1babe13a",
   "metadata": {},
   "outputs": [
    {
     "data": {
      "text/html": [
       "<div>\n",
       "<style scoped>\n",
       "    .dataframe tbody tr th:only-of-type {\n",
       "        vertical-align: middle;\n",
       "    }\n",
       "\n",
       "    .dataframe tbody tr th {\n",
       "        vertical-align: top;\n",
       "    }\n",
       "\n",
       "    .dataframe thead th {\n",
       "        text-align: right;\n",
       "    }\n",
       "</style>\n",
       "<table border=\"1\" class=\"dataframe\">\n",
       "  <thead>\n",
       "    <tr style=\"text-align: right;\">\n",
       "      <th></th>\n",
       "      <th>name</th>\n",
       "      <th>address</th>\n",
       "      <th>lat</th>\n",
       "      <th>lon</th>\n",
       "      <th>category_id</th>\n",
       "      <th>category</th>\n",
       "    </tr>\n",
       "  </thead>\n",
       "  <tbody>\n",
       "    <tr>\n",
       "      <th>0</th>\n",
       "      <td>Kimomi Pet</td>\n",
       "      <td>127 Madison Ave, New York, NY 10016</td>\n",
       "      <td>40.745535</td>\n",
       "      <td>-73.984420</td>\n",
       "      <td>11134</td>\n",
       "      <td>Pet Grooming Service</td>\n",
       "    </tr>\n",
       "    <tr>\n",
       "      <th>1</th>\n",
       "      <td>All Paws</td>\n",
       "      <td>120 E 34th St, New York, NY 10016</td>\n",
       "      <td>40.746348</td>\n",
       "      <td>-73.980303</td>\n",
       "      <td>11134</td>\n",
       "      <td>Pet Grooming Service</td>\n",
       "    </tr>\n",
       "    <tr>\n",
       "      <th>2</th>\n",
       "      <td>Prime Service NYC</td>\n",
       "      <td>182 Lexington Ave, New York, NY 10016</td>\n",
       "      <td>40.744707</td>\n",
       "      <td>-73.981112</td>\n",
       "      <td>11134</td>\n",
       "      <td>Pet Grooming Service</td>\n",
       "    </tr>\n",
       "    <tr>\n",
       "      <th>3</th>\n",
       "      <td>New York Dog Spa &amp; Hotel</td>\n",
       "      <td>32 W 25th St (Btw 6th Ave and Broadway), New Y...</td>\n",
       "      <td>40.743422</td>\n",
       "      <td>-73.990714</td>\n",
       "      <td>11134</td>\n",
       "      <td>Pet Grooming Service</td>\n",
       "    </tr>\n",
       "    <tr>\n",
       "      <th>4</th>\n",
       "      <td>Urban Dog Spa</td>\n",
       "      <td>32 W 25th St, New York, NY 10010</td>\n",
       "      <td>40.743367</td>\n",
       "      <td>-73.990755</td>\n",
       "      <td>11134</td>\n",
       "      <td>Pet Grooming Service</td>\n",
       "    </tr>\n",
       "  </tbody>\n",
       "</table>\n",
       "</div>"
      ],
      "text/plain": [
       "                       name   \n",
       "0                Kimomi Pet  \\\n",
       "1                  All Paws   \n",
       "2         Prime Service NYC   \n",
       "3  New York Dog Spa & Hotel   \n",
       "4             Urban Dog Spa   \n",
       "\n",
       "                                             address        lat        lon   \n",
       "0                127 Madison Ave, New York, NY 10016  40.745535 -73.984420  \\\n",
       "1                  120 E 34th St, New York, NY 10016  40.746348 -73.980303   \n",
       "2              182 Lexington Ave, New York, NY 10016  40.744707 -73.981112   \n",
       "3  32 W 25th St (Btw 6th Ave and Broadway), New Y...  40.743422 -73.990714   \n",
       "4                   32 W 25th St, New York, NY 10010  40.743367 -73.990755   \n",
       "\n",
       "   category_id              category  \n",
       "0        11134  Pet Grooming Service  \n",
       "1        11134  Pet Grooming Service  \n",
       "2        11134  Pet Grooming Service  \n",
       "3        11134  Pet Grooming Service  \n",
       "4        11134  Pet Grooming Service  "
      ]
     },
     "execution_count": 36,
     "metadata": {},
     "output_type": "execute_result"
    }
   ],
   "source": [
    "df11 = pd.DataFrame(new_lst_11)\n",
    "df11"
   ]
  },
  {
   "cell_type": "markdown",
   "id": "9d19eeea",
   "metadata": {},
   "source": [
    "### Dog parks"
   ]
  },
  {
   "cell_type": "code",
   "execution_count": 37,
   "id": "dcf16f1b",
   "metadata": {},
   "outputs": [],
   "source": [
    "response = query_from_frousquare_category (new_york[0], new_york[1], 2000, 16033 , 5)\n",
    "response = response.json()"
   ]
  },
  {
   "cell_type": "code",
   "execution_count": 38,
   "id": "fc5077dc",
   "metadata": {},
   "outputs": [],
   "source": [
    "new_lst_12 = []\n",
    "\n",
    "for i in response[\"results\"]:\n",
    "    new_lst_12.append(something_near_somewhere(i))"
   ]
  },
  {
   "cell_type": "code",
   "execution_count": 39,
   "id": "17dde1a2",
   "metadata": {},
   "outputs": [
    {
     "data": {
      "text/html": [
       "<div>\n",
       "<style scoped>\n",
       "    .dataframe tbody tr th:only-of-type {\n",
       "        vertical-align: middle;\n",
       "    }\n",
       "\n",
       "    .dataframe tbody tr th {\n",
       "        vertical-align: top;\n",
       "    }\n",
       "\n",
       "    .dataframe thead th {\n",
       "        text-align: right;\n",
       "    }\n",
       "</style>\n",
       "<table border=\"1\" class=\"dataframe\">\n",
       "  <thead>\n",
       "    <tr style=\"text-align: right;\">\n",
       "      <th></th>\n",
       "      <th>name</th>\n",
       "      <th>address</th>\n",
       "      <th>lat</th>\n",
       "      <th>lon</th>\n",
       "      <th>category_id</th>\n",
       "      <th>category</th>\n",
       "    </tr>\n",
       "  </thead>\n",
       "  <tbody>\n",
       "    <tr>\n",
       "      <th>0</th>\n",
       "      <td>Green's Garden and Park</td>\n",
       "      <td>W 32ND St, New York, NY 10001</td>\n",
       "      <td>40.748555</td>\n",
       "      <td>-73.988469</td>\n",
       "      <td>16033</td>\n",
       "      <td>Dog Park</td>\n",
       "    </tr>\n",
       "    <tr>\n",
       "      <th>1</th>\n",
       "      <td>Jordan's Dog Run</td>\n",
       "      <td>New York, NY 10018</td>\n",
       "      <td>40.751100</td>\n",
       "      <td>-73.986123</td>\n",
       "      <td>16033</td>\n",
       "      <td>Dog Park</td>\n",
       "    </tr>\n",
       "    <tr>\n",
       "      <th>2</th>\n",
       "      <td>Maliadog VIP Indoor Dog Park</td>\n",
       "      <td>New York, NY 10001</td>\n",
       "      <td>40.744861</td>\n",
       "      <td>-73.987407</td>\n",
       "      <td>16033</td>\n",
       "      <td>Dog Park</td>\n",
       "    </tr>\n",
       "    <tr>\n",
       "      <th>3</th>\n",
       "      <td>Dog Park</td>\n",
       "      <td>Bryant Park, New York, NY 10001</td>\n",
       "      <td>40.748839</td>\n",
       "      <td>-73.991931</td>\n",
       "      <td>16033</td>\n",
       "      <td>Dog Park</td>\n",
       "    </tr>\n",
       "    <tr>\n",
       "      <th>4</th>\n",
       "      <td>Lindsay Ashe Garden</td>\n",
       "      <td>E 39TH St, New York, NY 10016</td>\n",
       "      <td>40.751390</td>\n",
       "      <td>-73.981374</td>\n",
       "      <td>16033</td>\n",
       "      <td>Dog Park</td>\n",
       "    </tr>\n",
       "  </tbody>\n",
       "</table>\n",
       "</div>"
      ],
      "text/plain": [
       "                           name                          address        lat   \n",
       "0       Green's Garden and Park    W 32ND St, New York, NY 10001  40.748555  \\\n",
       "1              Jordan's Dog Run               New York, NY 10018  40.751100   \n",
       "2  Maliadog VIP Indoor Dog Park               New York, NY 10001  40.744861   \n",
       "3                      Dog Park  Bryant Park, New York, NY 10001  40.748839   \n",
       "4           Lindsay Ashe Garden    E 39TH St, New York, NY 10016  40.751390   \n",
       "\n",
       "         lon  category_id  category  \n",
       "0 -73.988469        16033  Dog Park  \n",
       "1 -73.986123        16033  Dog Park  \n",
       "2 -73.987407        16033  Dog Park  \n",
       "3 -73.991931        16033  Dog Park  \n",
       "4 -73.981374        16033  Dog Park  "
      ]
     },
     "execution_count": 39,
     "metadata": {},
     "output_type": "execute_result"
    }
   ],
   "source": [
    "df12 = pd.DataFrame(new_lst_12)\n",
    "df12"
   ]
  },
  {
   "cell_type": "markdown",
   "id": "df485141",
   "metadata": {},
   "source": [
    "### Starbucks"
   ]
  },
  {
   "cell_type": "code",
   "execution_count": 40,
   "id": "327ff375",
   "metadata": {},
   "outputs": [],
   "source": [
    "response = query_from_frousquare (\"starbucks\", new_york[0], new_york[1], 2000, 5)\n",
    "response = response.json()"
   ]
  },
  {
   "cell_type": "code",
   "execution_count": 41,
   "id": "2576cfe4",
   "metadata": {},
   "outputs": [],
   "source": [
    "new_lst_13 = []\n",
    "\n",
    "for i in response[\"results\"]:\n",
    "    new_lst_13.append(something_near_somewhere(i))"
   ]
  },
  {
   "cell_type": "code",
   "execution_count": 42,
   "id": "28a73fac",
   "metadata": {},
   "outputs": [
    {
     "data": {
      "text/html": [
       "<div>\n",
       "<style scoped>\n",
       "    .dataframe tbody tr th:only-of-type {\n",
       "        vertical-align: middle;\n",
       "    }\n",
       "\n",
       "    .dataframe tbody tr th {\n",
       "        vertical-align: top;\n",
       "    }\n",
       "\n",
       "    .dataframe thead th {\n",
       "        text-align: right;\n",
       "    }\n",
       "</style>\n",
       "<table border=\"1\" class=\"dataframe\">\n",
       "  <thead>\n",
       "    <tr style=\"text-align: right;\">\n",
       "      <th></th>\n",
       "      <th>name</th>\n",
       "      <th>address</th>\n",
       "      <th>lat</th>\n",
       "      <th>lon</th>\n",
       "      <th>category_id</th>\n",
       "      <th>category</th>\n",
       "    </tr>\n",
       "  </thead>\n",
       "  <tbody>\n",
       "    <tr>\n",
       "      <th>0</th>\n",
       "      <td>Starbucks</td>\n",
       "      <td>350 5th Ave (W. 33rd St), New York, NY 10118</td>\n",
       "      <td>40.748417</td>\n",
       "      <td>-73.985581</td>\n",
       "      <td>13035</td>\n",
       "      <td>Coffee Shop</td>\n",
       "    </tr>\n",
       "    <tr>\n",
       "      <th>1</th>\n",
       "      <td>Starbucks Regional Office</td>\n",
       "      <td>330 5th Ave (at W 33rd St), New York, NY 10001</td>\n",
       "      <td>40.748153</td>\n",
       "      <td>-73.985353</td>\n",
       "      <td>11130</td>\n",
       "      <td>Office Building</td>\n",
       "    </tr>\n",
       "    <tr>\n",
       "      <th>2</th>\n",
       "      <td>Starbucks Reserve</td>\n",
       "      <td>350 5th Ave (W. 34th St), New York, NY 10118</td>\n",
       "      <td>40.748383</td>\n",
       "      <td>-73.984838</td>\n",
       "      <td>13035</td>\n",
       "      <td>Coffee Shop</td>\n",
       "    </tr>\n",
       "    <tr>\n",
       "      <th>3</th>\n",
       "      <td>Starbucks</td>\n",
       "      <td>373 5th Ave (at E 35th St), New York, NY 10016</td>\n",
       "      <td>40.749103</td>\n",
       "      <td>-73.983801</td>\n",
       "      <td>13035</td>\n",
       "      <td>Coffee Shop</td>\n",
       "    </tr>\n",
       "    <tr>\n",
       "      <th>4</th>\n",
       "      <td>Starbucks</td>\n",
       "      <td>151 W 34th St (at Mezzanine level), New York, ...</td>\n",
       "      <td>40.750749</td>\n",
       "      <td>-73.989123</td>\n",
       "      <td>13035</td>\n",
       "      <td>Coffee Shop</td>\n",
       "    </tr>\n",
       "  </tbody>\n",
       "</table>\n",
       "</div>"
      ],
      "text/plain": [
       "                        name   \n",
       "0                  Starbucks  \\\n",
       "1  Starbucks Regional Office   \n",
       "2          Starbucks Reserve   \n",
       "3                  Starbucks   \n",
       "4                  Starbucks   \n",
       "\n",
       "                                             address        lat        lon   \n",
       "0       350 5th Ave (W. 33rd St), New York, NY 10118  40.748417 -73.985581  \\\n",
       "1     330 5th Ave (at W 33rd St), New York, NY 10001  40.748153 -73.985353   \n",
       "2       350 5th Ave (W. 34th St), New York, NY 10118  40.748383 -73.984838   \n",
       "3     373 5th Ave (at E 35th St), New York, NY 10016  40.749103 -73.983801   \n",
       "4  151 W 34th St (at Mezzanine level), New York, ...  40.750749 -73.989123   \n",
       "\n",
       "   category_id         category  \n",
       "0        13035      Coffee Shop  \n",
       "1        11130  Office Building  \n",
       "2        13035      Coffee Shop  \n",
       "3        13035      Coffee Shop  \n",
       "4        13035      Coffee Shop  "
      ]
     },
     "execution_count": 42,
     "metadata": {},
     "output_type": "execute_result"
    }
   ],
   "source": [
    "df13 = pd.DataFrame(new_lst_13)\n",
    "df13"
   ]
  },
  {
   "cell_type": "markdown",
   "id": "125d7c69",
   "metadata": {},
   "source": [
    "### Basketball"
   ]
  },
  {
   "cell_type": "code",
   "execution_count": 43,
   "id": "e291ddf0",
   "metadata": {},
   "outputs": [],
   "source": [
    "response = query_from_frousquare_category (new_york[0], new_york[1], 2000, 18006 , 5)\n",
    "response = response.json()"
   ]
  },
  {
   "cell_type": "code",
   "execution_count": 44,
   "id": "806e3b52",
   "metadata": {},
   "outputs": [],
   "source": [
    "new_lst_14 = []\n",
    "\n",
    "for i in response[\"results\"]:\n",
    "    new_lst_14.append(something_near_somewhere(i))"
   ]
  },
  {
   "cell_type": "code",
   "execution_count": 45,
   "id": "4ac140dc",
   "metadata": {},
   "outputs": [
    {
     "data": {
      "text/html": [
       "<div>\n",
       "<style scoped>\n",
       "    .dataframe tbody tr th:only-of-type {\n",
       "        vertical-align: middle;\n",
       "    }\n",
       "\n",
       "    .dataframe tbody tr th {\n",
       "        vertical-align: top;\n",
       "    }\n",
       "\n",
       "    .dataframe thead th {\n",
       "        text-align: right;\n",
       "    }\n",
       "</style>\n",
       "<table border=\"1\" class=\"dataframe\">\n",
       "  <thead>\n",
       "    <tr style=\"text-align: right;\">\n",
       "      <th></th>\n",
       "      <th>name</th>\n",
       "      <th>address</th>\n",
       "      <th>lat</th>\n",
       "      <th>lon</th>\n",
       "      <th>category_id</th>\n",
       "      <th>category</th>\n",
       "    </tr>\n",
       "  </thead>\n",
       "  <tbody>\n",
       "    <tr>\n",
       "      <th>0</th>\n",
       "      <td>Basketball Gym At The Dylan</td>\n",
       "      <td>5TH Ave (32nd St.), New York, NY 10118</td>\n",
       "      <td>40.746752</td>\n",
       "      <td>-73.985298</td>\n",
       "      <td>18008</td>\n",
       "      <td>Basketball Court</td>\n",
       "    </tr>\n",
       "    <tr>\n",
       "      <th>1</th>\n",
       "      <td>Jordan Terminal 23</td>\n",
       "      <td>145 W 32nd St (between 6th &amp; 7th ave), New Yor...</td>\n",
       "      <td>40.749368</td>\n",
       "      <td>-73.990336</td>\n",
       "      <td>18008</td>\n",
       "      <td>Basketball Court</td>\n",
       "    </tr>\n",
       "    <tr>\n",
       "      <th>2</th>\n",
       "      <td>Robert Moses Basketball Courts</td>\n",
       "      <td>42ND St, New York, NY 10017</td>\n",
       "      <td>40.748117</td>\n",
       "      <td>-73.968711</td>\n",
       "      <td>18008</td>\n",
       "      <td>Basketball Court</td>\n",
       "    </tr>\n",
       "    <tr>\n",
       "      <th>3</th>\n",
       "      <td>UN Basketball Courts</td>\n",
       "      <td>42nd Street and the FDR, New York, NY 10017</td>\n",
       "      <td>40.748117</td>\n",
       "      <td>-73.968711</td>\n",
       "      <td>18008</td>\n",
       "      <td>Basketball Court</td>\n",
       "    </tr>\n",
       "    <tr>\n",
       "      <th>4</th>\n",
       "      <td>ABC Hoops</td>\n",
       "      <td>439 W 49th St, New York, NY 10019</td>\n",
       "      <td>40.763603</td>\n",
       "      <td>-73.990721</td>\n",
       "      <td>18008</td>\n",
       "      <td>Basketball Court</td>\n",
       "    </tr>\n",
       "  </tbody>\n",
       "</table>\n",
       "</div>"
      ],
      "text/plain": [
       "                             name   \n",
       "0     Basketball Gym At The Dylan  \\\n",
       "1              Jordan Terminal 23   \n",
       "2  Robert Moses Basketball Courts   \n",
       "3            UN Basketball Courts   \n",
       "4                       ABC Hoops   \n",
       "\n",
       "                                             address        lat        lon   \n",
       "0             5TH Ave (32nd St.), New York, NY 10118  40.746752 -73.985298  \\\n",
       "1  145 W 32nd St (between 6th & 7th ave), New Yor...  40.749368 -73.990336   \n",
       "2                        42ND St, New York, NY 10017  40.748117 -73.968711   \n",
       "3        42nd Street and the FDR, New York, NY 10017  40.748117 -73.968711   \n",
       "4                  439 W 49th St, New York, NY 10019  40.763603 -73.990721   \n",
       "\n",
       "   category_id          category  \n",
       "0        18008  Basketball Court  \n",
       "1        18008  Basketball Court  \n",
       "2        18008  Basketball Court  \n",
       "3        18008  Basketball Court  \n",
       "4        18008  Basketball Court  "
      ]
     },
     "execution_count": 45,
     "metadata": {},
     "output_type": "execute_result"
    }
   ],
   "source": [
    "df14 = pd.DataFrame(new_lst_14)\n",
    "df14"
   ]
  },
  {
   "cell_type": "markdown",
   "id": "bb9309ad",
   "metadata": {},
   "source": [
    "### Design"
   ]
  },
  {
   "cell_type": "code",
   "execution_count": 46,
   "id": "83756fb6",
   "metadata": {},
   "outputs": [],
   "source": [
    "response = query_from_frousquare_category (new_york[0], new_york[1], 2000, 11030 , 5)\n",
    "response = response.json()"
   ]
  },
  {
   "cell_type": "code",
   "execution_count": 47,
   "id": "f576a262",
   "metadata": {},
   "outputs": [],
   "source": [
    "new_lst_15 = []\n",
    "\n",
    "for i in response[\"results\"]:\n",
    "    new_lst_15.append(something_near_somewhere(i))"
   ]
  },
  {
   "cell_type": "code",
   "execution_count": 48,
   "id": "0b86b65f",
   "metadata": {},
   "outputs": [
    {
     "data": {
      "text/html": [
       "<div>\n",
       "<style scoped>\n",
       "    .dataframe tbody tr th:only-of-type {\n",
       "        vertical-align: middle;\n",
       "    }\n",
       "\n",
       "    .dataframe tbody tr th {\n",
       "        vertical-align: top;\n",
       "    }\n",
       "\n",
       "    .dataframe thead th {\n",
       "        text-align: right;\n",
       "    }\n",
       "</style>\n",
       "<table border=\"1\" class=\"dataframe\">\n",
       "  <thead>\n",
       "    <tr style=\"text-align: right;\">\n",
       "      <th></th>\n",
       "      <th>name</th>\n",
       "      <th>address</th>\n",
       "      <th>lat</th>\n",
       "      <th>lon</th>\n",
       "      <th>category_id</th>\n",
       "      <th>category</th>\n",
       "    </tr>\n",
       "  </thead>\n",
       "  <tbody>\n",
       "    <tr>\n",
       "      <th>0</th>\n",
       "      <td>Interface FLOR Showroom</td>\n",
       "      <td>330 5th Ave (33rd Street), New York, NY 10001</td>\n",
       "      <td>40.747497</td>\n",
       "      <td>-73.985676</td>\n",
       "      <td>11030</td>\n",
       "      <td>Design Studio</td>\n",
       "    </tr>\n",
       "    <tr>\n",
       "      <th>1</th>\n",
       "      <td>Walsh Family Media</td>\n",
       "      <td>42 W 38th St (Between 5th and 6th Ave), New Yo...</td>\n",
       "      <td>40.751677</td>\n",
       "      <td>-73.984748</td>\n",
       "      <td>11030</td>\n",
       "      <td>Design Studio</td>\n",
       "    </tr>\n",
       "    <tr>\n",
       "      <th>2</th>\n",
       "      <td>Style &amp; Co Showroom</td>\n",
       "      <td>11 Penn Plz (31st Street), New York, NY 10001</td>\n",
       "      <td>40.749124</td>\n",
       "      <td>-73.991375</td>\n",
       "      <td>11030</td>\n",
       "      <td>Design Studio</td>\n",
       "    </tr>\n",
       "    <tr>\n",
       "      <th>3</th>\n",
       "      <td>Von Klueger Creative Studio</td>\n",
       "      <td>1201 Broadway (28th St), New York, NY 10001</td>\n",
       "      <td>40.745628</td>\n",
       "      <td>-73.988966</td>\n",
       "      <td>11030</td>\n",
       "      <td>Design Studio</td>\n",
       "    </tr>\n",
       "    <tr>\n",
       "      <th>4</th>\n",
       "      <td>3 Form Show Room</td>\n",
       "      <td>129 W 29th St, New York, NY 10001</td>\n",
       "      <td>40.747349</td>\n",
       "      <td>-73.991174</td>\n",
       "      <td>11030</td>\n",
       "      <td>Design Studio</td>\n",
       "    </tr>\n",
       "  </tbody>\n",
       "</table>\n",
       "</div>"
      ],
      "text/plain": [
       "                          name   \n",
       "0      Interface FLOR Showroom  \\\n",
       "1           Walsh Family Media   \n",
       "2          Style & Co Showroom   \n",
       "3  Von Klueger Creative Studio   \n",
       "4             3 Form Show Room   \n",
       "\n",
       "                                             address        lat        lon   \n",
       "0      330 5th Ave (33rd Street), New York, NY 10001  40.747497 -73.985676  \\\n",
       "1  42 W 38th St (Between 5th and 6th Ave), New Yo...  40.751677 -73.984748   \n",
       "2      11 Penn Plz (31st Street), New York, NY 10001  40.749124 -73.991375   \n",
       "3        1201 Broadway (28th St), New York, NY 10001  40.745628 -73.988966   \n",
       "4                  129 W 29th St, New York, NY 10001  40.747349 -73.991174   \n",
       "\n",
       "   category_id       category  \n",
       "0        11030  Design Studio  \n",
       "1        11030  Design Studio  \n",
       "2        11030  Design Studio  \n",
       "3        11030  Design Studio  \n",
       "4        11030  Design Studio  "
      ]
     },
     "execution_count": 48,
     "metadata": {},
     "output_type": "execute_result"
    }
   ],
   "source": [
    "df15 = pd.DataFrame(new_lst_15)\n",
    "df15"
   ]
  },
  {
   "cell_type": "code",
   "execution_count": null,
   "id": "5f70bcf5",
   "metadata": {},
   "outputs": [],
   "source": []
  },
  {
   "cell_type": "markdown",
   "id": "7a0240a1",
   "metadata": {},
   "source": [
    "# CONCATENATE"
   ]
  },
  {
   "cell_type": "code",
   "execution_count": 50,
   "id": "0a6ac611",
   "metadata": {},
   "outputs": [],
   "source": [
    "df_new_york = pd.concat([df1, \n",
    "                              df2, \n",
    "                              df3, \n",
    "                              df4, \n",
    "                              df5, \n",
    "                              df6, \n",
    "                              df7, \n",
    "                              df9, \n",
    "                              df10, \n",
    "                              df11, \n",
    "                              df12, \n",
    "                              df13, \n",
    "                              df14, \n",
    "                              df15])"
   ]
  },
  {
   "cell_type": "code",
   "execution_count": 51,
   "id": "665cf68a",
   "metadata": {},
   "outputs": [],
   "source": [
    "df_new_york = df_new_york.reset_index(drop=True)"
   ]
  },
  {
   "cell_type": "code",
   "execution_count": 52,
   "id": "a6f0611e",
   "metadata": {},
   "outputs": [
    {
     "data": {
      "text/html": [
       "<div>\n",
       "<style scoped>\n",
       "    .dataframe tbody tr th:only-of-type {\n",
       "        vertical-align: middle;\n",
       "    }\n",
       "\n",
       "    .dataframe tbody tr th {\n",
       "        vertical-align: top;\n",
       "    }\n",
       "\n",
       "    .dataframe thead th {\n",
       "        text-align: right;\n",
       "    }\n",
       "</style>\n",
       "<table border=\"1\" class=\"dataframe\">\n",
       "  <thead>\n",
       "    <tr style=\"text-align: right;\">\n",
       "      <th></th>\n",
       "      <th>name</th>\n",
       "      <th>address</th>\n",
       "      <th>lat</th>\n",
       "      <th>lon</th>\n",
       "      <th>category_id</th>\n",
       "      <th>category</th>\n",
       "    </tr>\n",
       "  </thead>\n",
       "  <tbody>\n",
       "    <tr>\n",
       "      <th>0</th>\n",
       "      <td>Chelsea Day School</td>\n",
       "      <td>319 5th Ave (E 32nd St), New York, NY 10016</td>\n",
       "      <td>40.747135</td>\n",
       "      <td>-73.985094</td>\n",
       "      <td>12056</td>\n",
       "      <td>Preschool</td>\n",
       "    </tr>\n",
       "    <tr>\n",
       "      <th>1</th>\n",
       "      <td>Maryel School of New York</td>\n",
       "      <td>28 E 35th St, New York, NY 10016</td>\n",
       "      <td>40.748030</td>\n",
       "      <td>-73.981941</td>\n",
       "      <td>12056</td>\n",
       "      <td>Preschool</td>\n",
       "    </tr>\n",
       "    <tr>\n",
       "      <th>2</th>\n",
       "      <td>ReadingEggs</td>\n",
       "      <td>37 W 27th St, New York, NY 10001</td>\n",
       "      <td>40.745022</td>\n",
       "      <td>-73.989423</td>\n",
       "      <td>12056</td>\n",
       "      <td>Preschool</td>\n",
       "    </tr>\n",
       "    <tr>\n",
       "      <th>3</th>\n",
       "      <td>Libs</td>\n",
       "      <td>22 W 34th St, New York, NY 10001</td>\n",
       "      <td>40.748882</td>\n",
       "      <td>-73.986342</td>\n",
       "      <td>12057</td>\n",
       "      <td>Primary and Secondary School</td>\n",
       "    </tr>\n",
       "    <tr>\n",
       "      <th>4</th>\n",
       "      <td>Alpine County Office of Education</td>\n",
       "      <td>462 Fashion Ave, New York, NY 10018</td>\n",
       "      <td>40.751852</td>\n",
       "      <td>-73.990259</td>\n",
       "      <td>12057</td>\n",
       "      <td>Primary and Secondary School</td>\n",
       "    </tr>\n",
       "    <tr>\n",
       "      <th>...</th>\n",
       "      <td>...</td>\n",
       "      <td>...</td>\n",
       "      <td>...</td>\n",
       "      <td>...</td>\n",
       "      <td>...</td>\n",
       "      <td>...</td>\n",
       "    </tr>\n",
       "    <tr>\n",
       "      <th>58</th>\n",
       "      <td>Interface FLOR Showroom</td>\n",
       "      <td>330 5th Ave (33rd Street), New York, NY 10001</td>\n",
       "      <td>40.747497</td>\n",
       "      <td>-73.985676</td>\n",
       "      <td>11030</td>\n",
       "      <td>Design Studio</td>\n",
       "    </tr>\n",
       "    <tr>\n",
       "      <th>59</th>\n",
       "      <td>Walsh Family Media</td>\n",
       "      <td>42 W 38th St (Between 5th and 6th Ave), New Yo...</td>\n",
       "      <td>40.751677</td>\n",
       "      <td>-73.984748</td>\n",
       "      <td>11030</td>\n",
       "      <td>Design Studio</td>\n",
       "    </tr>\n",
       "    <tr>\n",
       "      <th>60</th>\n",
       "      <td>Style &amp; Co Showroom</td>\n",
       "      <td>11 Penn Plz (31st Street), New York, NY 10001</td>\n",
       "      <td>40.749124</td>\n",
       "      <td>-73.991375</td>\n",
       "      <td>11030</td>\n",
       "      <td>Design Studio</td>\n",
       "    </tr>\n",
       "    <tr>\n",
       "      <th>61</th>\n",
       "      <td>Von Klueger Creative Studio</td>\n",
       "      <td>1201 Broadway (28th St), New York, NY 10001</td>\n",
       "      <td>40.745628</td>\n",
       "      <td>-73.988966</td>\n",
       "      <td>11030</td>\n",
       "      <td>Design Studio</td>\n",
       "    </tr>\n",
       "    <tr>\n",
       "      <th>62</th>\n",
       "      <td>3 Form Show Room</td>\n",
       "      <td>129 W 29th St, New York, NY 10001</td>\n",
       "      <td>40.747349</td>\n",
       "      <td>-73.991174</td>\n",
       "      <td>11030</td>\n",
       "      <td>Design Studio</td>\n",
       "    </tr>\n",
       "  </tbody>\n",
       "</table>\n",
       "<p>63 rows × 6 columns</p>\n",
       "</div>"
      ],
      "text/plain": [
       "                                 name   \n",
       "0                  Chelsea Day School  \\\n",
       "1           Maryel School of New York   \n",
       "2                         ReadingEggs   \n",
       "3                                Libs   \n",
       "4   Alpine County Office of Education   \n",
       "..                                ...   \n",
       "58            Interface FLOR Showroom   \n",
       "59                 Walsh Family Media   \n",
       "60                Style & Co Showroom   \n",
       "61        Von Klueger Creative Studio   \n",
       "62                   3 Form Show Room   \n",
       "\n",
       "                                              address        lat        lon   \n",
       "0         319 5th Ave (E 32nd St), New York, NY 10016  40.747135 -73.985094  \\\n",
       "1                    28 E 35th St, New York, NY 10016  40.748030 -73.981941   \n",
       "2                    37 W 27th St, New York, NY 10001  40.745022 -73.989423   \n",
       "3                    22 W 34th St, New York, NY 10001  40.748882 -73.986342   \n",
       "4                 462 Fashion Ave, New York, NY 10018  40.751852 -73.990259   \n",
       "..                                                ...        ...        ...   \n",
       "58      330 5th Ave (33rd Street), New York, NY 10001  40.747497 -73.985676   \n",
       "59  42 W 38th St (Between 5th and 6th Ave), New Yo...  40.751677 -73.984748   \n",
       "60      11 Penn Plz (31st Street), New York, NY 10001  40.749124 -73.991375   \n",
       "61        1201 Broadway (28th St), New York, NY 10001  40.745628 -73.988966   \n",
       "62                  129 W 29th St, New York, NY 10001  40.747349 -73.991174   \n",
       "\n",
       "    category_id                      category  \n",
       "0         12056                     Preschool  \n",
       "1         12056                     Preschool  \n",
       "2         12056                     Preschool  \n",
       "3         12057  Primary and Secondary School  \n",
       "4         12057  Primary and Secondary School  \n",
       "..          ...                           ...  \n",
       "58        11030                 Design Studio  \n",
       "59        11030                 Design Studio  \n",
       "60        11030                 Design Studio  \n",
       "61        11030                 Design Studio  \n",
       "62        11030                 Design Studio  \n",
       "\n",
       "[63 rows x 6 columns]"
      ]
     },
     "execution_count": 52,
     "metadata": {},
     "output_type": "execute_result"
    }
   ],
   "source": [
    "df_new_york\n"
   ]
  },
  {
   "cell_type": "markdown",
   "id": "99deac2d",
   "metadata": {},
   "source": [
    "# SAVE DF"
   ]
  },
  {
   "cell_type": "code",
   "execution_count": 53,
   "id": "ff425884",
   "metadata": {},
   "outputs": [],
   "source": [
    "#df_new_york.to_csv(\"../data/new_york.csv\", index=False)"
   ]
  },
  {
   "cell_type": "code",
   "execution_count": null,
   "id": "e52a21f8",
   "metadata": {},
   "outputs": [],
   "source": []
  },
  {
   "cell_type": "code",
   "execution_count": null,
   "id": "004bd21b",
   "metadata": {},
   "outputs": [],
   "source": []
  },
  {
   "cell_type": "code",
   "execution_count": null,
   "id": "f2e196d8",
   "metadata": {},
   "outputs": [],
   "source": []
  },
  {
   "cell_type": "code",
   "execution_count": null,
   "id": "a649e976",
   "metadata": {},
   "outputs": [],
   "source": []
  },
  {
   "cell_type": "code",
   "execution_count": null,
   "id": "4a093bb7",
   "metadata": {},
   "outputs": [],
   "source": []
  },
  {
   "cell_type": "code",
   "execution_count": null,
   "id": "c45bfb14",
   "metadata": {},
   "outputs": [],
   "source": []
  },
  {
   "cell_type": "code",
   "execution_count": null,
   "id": "ecf3c175",
   "metadata": {},
   "outputs": [],
   "source": []
  },
  {
   "cell_type": "code",
   "execution_count": null,
   "id": "06f966d7",
   "metadata": {},
   "outputs": [],
   "source": []
  },
  {
   "cell_type": "code",
   "execution_count": null,
   "id": "eaf9ee98",
   "metadata": {},
   "outputs": [],
   "source": []
  }
 ],
 "metadata": {
  "kernelspec": {
   "display_name": "ironhack",
   "language": "python",
   "name": "ironhack"
  },
  "language_info": {
   "codemirror_mode": {
    "name": "ipython",
    "version": 3
   },
   "file_extension": ".py",
   "mimetype": "text/x-python",
   "name": "python",
   "nbconvert_exporter": "python",
   "pygments_lexer": "ipython3",
   "version": "3.9.12"
  },
  "toc": {
   "base_numbering": 1,
   "nav_menu": {},
   "number_sections": true,
   "sideBar": true,
   "skip_h1_title": false,
   "title_cell": "Table of Contents",
   "title_sidebar": "Contents",
   "toc_cell": false,
   "toc_position": {
    "height": "calc(100% - 180px)",
    "left": "10px",
    "top": "150px",
    "width": "220.208px"
   },
   "toc_section_display": true,
   "toc_window_display": true
  }
 },
 "nbformat": 4,
 "nbformat_minor": 5
}
